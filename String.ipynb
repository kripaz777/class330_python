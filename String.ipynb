{
 "cells": [
  {
   "cell_type": "code",
   "execution_count": 1,
   "metadata": {},
   "outputs": [
    {
     "name": "stdout",
     "output_type": "stream",
     "text": [
      "Hello World\n",
      "<class 'str'>\n"
     ]
    }
   ],
   "source": [
    "a = \"Hello World\"\n",
    "print(a)\n",
    "print(type(a))"
   ]
  },
  {
   "cell_type": "code",
   "execution_count": 3,
   "metadata": {},
   "outputs": [
    {
     "data": {
      "text/plain": [
       "' '"
      ]
     },
     "execution_count": 3,
     "metadata": {},
     "output_type": "execute_result"
    }
   ],
   "source": [
    "a = \"Hello World\"\n",
    "a[5]"
   ]
  },
  {
   "cell_type": "code",
   "execution_count": 4,
   "metadata": {},
   "outputs": [
    {
     "data": {
      "text/plain": [
       "'Hello Worl'"
      ]
     },
     "execution_count": 4,
     "metadata": {},
     "output_type": "execute_result"
    }
   ],
   "source": [
    "a = \"Hello World\"\n",
    "a[0:10]"
   ]
  },
  {
   "cell_type": "code",
   "execution_count": 5,
   "metadata": {},
   "outputs": [
    {
     "data": {
      "text/plain": [
       "'HloWr'"
      ]
     },
     "execution_count": 5,
     "metadata": {},
     "output_type": "execute_result"
    }
   ],
   "source": [
    "a = \"Hello World\"\n",
    "a[0:10:2]"
   ]
  },
  {
   "cell_type": "code",
   "execution_count": 6,
   "metadata": {},
   "outputs": [
    {
     "name": "stdout",
     "output_type": "stream",
     "text": [
      "Enter a = 10\n"
     ]
    },
    {
     "data": {
      "text/plain": [
       "str"
      ]
     },
     "execution_count": 6,
     "metadata": {},
     "output_type": "execute_result"
    }
   ],
   "source": [
    "a = input(\"Enter a = \")\n",
    "type(a)"
   ]
  },
  {
   "cell_type": "code",
   "execution_count": 7,
   "metadata": {},
   "outputs": [
    {
     "data": {
      "text/plain": [
       "'AppleBall'"
      ]
     },
     "execution_count": 7,
     "metadata": {},
     "output_type": "execute_result"
    }
   ],
   "source": [
    "a = \"Apple\"\n",
    "b = \"Ball\"\n",
    "a+b"
   ]
  },
  {
   "cell_type": "code",
   "execution_count": 9,
   "metadata": {},
   "outputs": [
    {
     "name": "stdout",
     "output_type": "stream",
     "text": [
      "Hello World\n",
      "Hello World\n",
      "Hello World\n",
      "Hello World\n",
      "\n"
     ]
    }
   ],
   "source": [
    "a = \"Hello World\\n\"\n",
    "print(a*4)"
   ]
  },
  {
   "cell_type": "code",
   "execution_count": 11,
   "metadata": {},
   "outputs": [
    {
     "name": "stdout",
     "output_type": "stream",
     "text": [
      "Enter name = Ram\n",
      "Enter age = 56\n",
      "ENter address = Kathmandu\n",
      "Hello My name is Ram.I am from Kathmandu.I am 56\n"
     ]
    }
   ],
   "source": [
    "# String formatting\n",
    "name = input(\"Enter name = \")\n",
    "age = int(input(\"Enter age = \"))\n",
    "add  = input(\"ENter address = \")\n",
    "\n",
    "output = f\"Hello My name is {name}.I am from {add}.I am {age}\"\n",
    "print(output)"
   ]
  },
  {
   "cell_type": "code",
   "execution_count": 12,
   "metadata": {},
   "outputs": [
    {
     "name": "stdout",
     "output_type": "stream",
     "text": [
      "Enter name = Ram\n",
      "Enter age = 67\n",
      "ENter address = bara\n",
      "Hello My name is Ram.I am from bara.I am 67.My hoby is ['Playing', 'Cycling', 'Singing']\n"
     ]
    }
   ],
   "source": [
    "# String formatting\n",
    "name = input(\"Enter name = \")\n",
    "age = int(input(\"Enter age = \"))\n",
    "add  = input(\"ENter address = \")\n",
    "hobies = [\"Playing\",\"Cycling\",\"Singing\"]\n",
    "\n",
    "output = f\"Hello My name is {name}.I am from {add}.I am {age}.My hoby is {hobies}\"\n",
    "print(output)"
   ]
  },
  {
   "cell_type": "code",
   "execution_count": 13,
   "metadata": {},
   "outputs": [
    {
     "name": "stdout",
     "output_type": "stream",
     "text": [
      "Yes\n"
     ]
    }
   ],
   "source": [
    "# Search\n",
    "a = \"Hello My name is Ram.I am from bara.I am 67.\"\n",
    "if \"Ram\" in a:\n",
    "    print(\"Yes\")\n",
    "else:\n",
    "    print(\"No\")"
   ]
  },
  {
   "cell_type": "code",
   "execution_count": 15,
   "metadata": {},
   "outputs": [
    {
     "name": "stdout",
     "output_type": "stream",
     "text": [
      "Enter value for search = fsdfsdf\n",
      "No\n"
     ]
    }
   ],
   "source": [
    "# Search\n",
    "a = \"Hello My name is Ram.I am from bara.I am 67.\"\n",
    "search = input(\"Enter value for search = \")\n",
    "if search in a:\n",
    "    print(\"Yes\")\n",
    "else:\n",
    "    print(\"No\")"
   ]
  },
  {
   "cell_type": "code",
   "execution_count": 16,
   "metadata": {},
   "outputs": [
    {
     "data": {
      "text/plain": [
       "1"
      ]
     },
     "execution_count": 16,
     "metadata": {},
     "output_type": "execute_result"
    }
   ],
   "source": [
    "a = \"Hello My name is Ram.I am from bara.I am 67.\"\n",
    "a.count('Ram')"
   ]
  },
  {
   "cell_type": "code",
   "execution_count": 18,
   "metadata": {},
   "outputs": [
    {
     "name": "stdout",
     "output_type": "stream",
     "text": [
      "Enter value for search = ram\n",
      "No\n"
     ]
    }
   ],
   "source": [
    "# Search\n",
    "a = \"Hello My name is Ram.I am from bara.I am 67.\"\n",
    "search = input(\"Enter value for search = \")\n",
    "if search in a:\n",
    "    print(\"Yes\",a.count(search))\n",
    "else:\n",
    "    print(\"No\")"
   ]
  },
  {
   "cell_type": "code",
   "execution_count": 19,
   "metadata": {},
   "outputs": [
    {
     "data": {
      "text/plain": [
       "'HELLO WORLD'"
      ]
     },
     "execution_count": 19,
     "metadata": {},
     "output_type": "execute_result"
    }
   ],
   "source": [
    "a = \"hello World\"\n",
    "a.upper()"
   ]
  },
  {
   "cell_type": "code",
   "execution_count": 20,
   "metadata": {},
   "outputs": [
    {
     "data": {
      "text/plain": [
       "'hello world'"
      ]
     },
     "execution_count": 20,
     "metadata": {},
     "output_type": "execute_result"
    }
   ],
   "source": [
    "a = \"hello World\"\n",
    "a.lower()"
   ]
  },
  {
   "cell_type": "code",
   "execution_count": 23,
   "metadata": {},
   "outputs": [
    {
     "name": "stdout",
     "output_type": "stream",
     "text": [
      "Enter value for search = rAm\n",
      "Yes 1\n"
     ]
    }
   ],
   "source": [
    "# Search\n",
    "a = \"Hello My name is Ram.I am from Bara.I am 67.\".lower()\n",
    "search = input(\"Enter value for search = \").lower()\n",
    "if search in a:\n",
    "    print(\"Yes\",a.count(search))\n",
    "else:\n",
    "    print(\"No\")"
   ]
  },
  {
   "cell_type": "code",
   "execution_count": 25,
   "metadata": {},
   "outputs": [
    {
     "data": {
      "text/plain": [
       "'Hello My name is Shyam.I am from Bara.I am 67.'"
      ]
     },
     "execution_count": 25,
     "metadata": {},
     "output_type": "execute_result"
    }
   ],
   "source": [
    "# replace()\n",
    "a=\"Hello My name is Ram.I am from Bara.I am 67.\"\n",
    "a.replace('Ram','Shyam')\n"
   ]
  },
  {
   "cell_type": "code",
   "execution_count": 28,
   "metadata": {},
   "outputs": [
    {
     "data": {
      "text/plain": [
       "\"Hello My name is Shyam.I am from Bara.I am 67.My brother's name is Shyam Prasad\""
      ]
     },
     "execution_count": 28,
     "metadata": {},
     "output_type": "execute_result"
    }
   ],
   "source": [
    "# replace()\n",
    "a=\"Hello My name is Ram.I am from Bara.I am 67.My brother's name is Ram Prasad\"\n",
    "a = a.replace('Ram','Shyam')\n",
    "a"
   ]
  },
  {
   "cell_type": "code",
   "execution_count": 1,
   "metadata": {},
   "outputs": [
    {
     "name": "stdout",
     "output_type": "stream",
     "text": [
      "Enter value for search = Ram\n",
      "Enter replace value = Shyam\n",
      "Yes 1\n",
      "hello my name is Shyam.i am from bara.i am 67.\n"
     ]
    }
   ],
   "source": [
    "# Search and replace\n",
    "a = \"Hello My name is Ram.I am from Bara.I am 67.\".lower()\n",
    "search = input(\"Enter value for search = \").lower()\n",
    "replace = input(\"Enter replace value = \")\n",
    "if search in a:\n",
    "    print(\"Yes\",a.count(search))\n",
    "    a = a.replace(search,replace)\n",
    "    print(a)\n",
    "    \n",
    "else:\n",
    "    print(\"No\")"
   ]
  },
  {
   "cell_type": "code",
   "execution_count": 5,
   "metadata": {},
   "outputs": [
    {
     "data": {
      "text/plain": [
       "'Ram'"
      ]
     },
     "execution_count": 5,
     "metadata": {},
     "output_type": "execute_result"
    }
   ],
   "source": [
    "a=\"Hello My name is Ram.I am from Bara.I am 67.My brother's name is Ram Prasad\"\n",
    "a[17:20]"
   ]
  },
  {
   "cell_type": "code",
   "execution_count": 8,
   "metadata": {},
   "outputs": [
    {
     "data": {
      "text/plain": [
       "\"Hello My name is Sita.I am from Bara.I am 67.My brother's name is Ram Prasad\""
      ]
     },
     "execution_count": 8,
     "metadata": {},
     "output_type": "execute_result"
    }
   ],
   "source": [
    "c = \" Sita\"\n",
    "b = a[:16] +c+ a[20:]\n",
    "b"
   ]
  },
  {
   "cell_type": "code",
   "execution_count": 9,
   "metadata": {},
   "outputs": [
    {
     "data": {
      "text/plain": [
       "['Hello', 'World']"
      ]
     },
     "execution_count": 9,
     "metadata": {},
     "output_type": "execute_result"
    }
   ],
   "source": [
    "a = \"Hello World\"\n",
    "a.split()"
   ]
  },
  {
   "cell_type": "code",
   "execution_count": 11,
   "metadata": {},
   "outputs": [
    {
     "data": {
      "text/plain": [
       "['Hello', 'World']"
      ]
     },
     "execution_count": 11,
     "metadata": {},
     "output_type": "execute_result"
    }
   ],
   "source": [
    "a = \"Hello.World\"\n",
    "a.split('.')"
   ]
  },
  {
   "cell_type": "code",
   "execution_count": 12,
   "metadata": {},
   "outputs": [
    {
     "name": "stdout",
     "output_type": "stream",
     "text": [
      "Enter n = 3\n",
      "ENter name = Shyam\n",
      "ENter age = 78\n",
      "Enter address = Kathmandu\n",
      "ENter name = Nabin\n",
      "ENter age = 56\n",
      "Enter address = Patan\n",
      "ENter name = Nita\n",
      "ENter age = 89\n",
      "Enter address = USA\n",
      "Shyam 78 Kathmandu\n",
      "Nabin 56 Patan\n",
      "Nita 89 USA\n",
      "\n"
     ]
    }
   ],
   "source": [
    "data = \"\"\n",
    "n = int(input(\"Enter n = \"))\n",
    "for i in range(n):\n",
    "    name = input(\"ENter name = \")\n",
    "    age = input(\"ENter age = \")\n",
    "    add = input(\"Enter address = \")\n",
    "    info = f\"{name} {age} {add}\\n\"\n",
    "    data = data+info\n",
    "    \n",
    "print(data)"
   ]
  },
  {
   "cell_type": "code",
   "execution_count": 14,
   "metadata": {},
   "outputs": [
    {
     "name": "stdout",
     "output_type": "stream",
     "text": [
      "Enter search =USA\n",
      "Enter update = Bara\n",
      "Shyam 78 Kathmandu\n",
      "Nabin 56 Patan\n",
      "Nita 89 Bara\n",
      "\n"
     ]
    }
   ],
   "source": [
    "search = input(\"Enter search =\")\n",
    "update = input(\"Enter update = \")\n",
    "data = data.replace(search,update)\n",
    "print(data)"
   ]
  },
  {
   "cell_type": "code",
   "execution_count": 15,
   "metadata": {},
   "outputs": [
    {
     "data": {
      "text/plain": [
       "'Apple '"
      ]
     },
     "execution_count": 15,
     "metadata": {},
     "output_type": "execute_result"
    }
   ],
   "source": [
    "a = \"Apple Ball\"\n",
    "a = a.replace('Ball','')\n",
    "a"
   ]
  },
  {
   "cell_type": "code",
   "execution_count": 16,
   "metadata": {},
   "outputs": [
    {
     "data": {
      "text/plain": [
       "10"
      ]
     },
     "execution_count": 16,
     "metadata": {},
     "output_type": "execute_result"
    }
   ],
   "source": [
    "a = \"Apple Ball\"\n",
    "len(a)"
   ]
  },
  {
   "cell_type": "code",
   "execution_count": null,
   "metadata": {},
   "outputs": [],
   "source": []
  }
 ],
 "metadata": {
  "kernelspec": {
   "display_name": "Python 3",
   "language": "python",
   "name": "python3"
  },
  "language_info": {
   "codemirror_mode": {
    "name": "ipython",
    "version": 3
   },
   "file_extension": ".py",
   "mimetype": "text/x-python",
   "name": "python",
   "nbconvert_exporter": "python",
   "pygments_lexer": "ipython3",
   "version": "3.7.1"
  }
 },
 "nbformat": 4,
 "nbformat_minor": 2
}
