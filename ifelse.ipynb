{
 "cells": [
  {
   "cell_type": "code",
   "execution_count": 1,
   "metadata": {},
   "outputs": [],
   "source": [
    "# if\n",
    "# elif\n",
    "# else"
   ]
  },
  {
   "cell_type": "code",
   "execution_count": 2,
   "metadata": {},
   "outputs": [
    {
     "name": "stdout",
     "output_type": "stream",
     "text": [
      "Enter a = 10\n",
      "Enter b = 30\n",
      "b is greater \n"
     ]
    }
   ],
   "source": [
    "a =int(input(\"Enter a = \"))\n",
    "b = int(input(\"Enter b = \"))\n",
    "if a>b:\n",
    "    print(\"a is greater\")\n",
    "elif b>a:\n",
    "    print(\"b is greater \")\n",
    "else:\n",
    "    print(\"Both are equal\")"
   ]
  },
  {
   "cell_type": "code",
   "execution_count": 3,
   "metadata": {},
   "outputs": [],
   "source": [
    "# and & or |"
   ]
  },
  {
   "cell_type": "code",
   "execution_count": 4,
   "metadata": {},
   "outputs": [
    {
     "name": "stdout",
     "output_type": "stream",
     "text": [
      "Enter a = 10\n",
      "Enter b = 39\n",
      "Enter c = 45\n",
      "c is greater\n"
     ]
    }
   ],
   "source": [
    "a =int(input(\"Enter a = \"))\n",
    "b = int(input(\"Enter b = \"))\n",
    "c = int(input(\"Enter c = \"))\n",
    "if a>b and a>c:\n",
    "    print(\"a is greater\")\n",
    "elif b>a and b>c:\n",
    "    print(\"b is greater \")\n",
    "elif c>a and c>b:\n",
    "    print(\"c is greater\")\n",
    "else:\n",
    "    print(\"All are equal\")"
   ]
  },
  {
   "cell_type": "code",
   "execution_count": 6,
   "metadata": {},
   "outputs": [
    {
     "name": "stdout",
     "output_type": "stream",
     "text": [
      "Enter a = 10\n",
      "Enter b = 2\n",
      "Enter operator + - / *  =*\n",
      "a*b= 20\n"
     ]
    }
   ],
   "source": [
    "a = int(input(\"Enter a = \"))\n",
    "b = int(input(\"Enter b = \"))\n",
    "o = input(\"Enter operator + - / *  =\")\n",
    "if o == '+':\n",
    "    print(\"a+b=\",a+b)\n",
    "elif o == '-':\n",
    "    print(\"a-b=\",a-b)\n",
    "elif o == '*':\n",
    "    print(\"a*b=\",a*b)\n",
    "elif o == '/':\n",
    "    print(\"a/b=\",a/b)\n",
    "else:\n",
    "    print(\"You entered invalid operetor\")"
   ]
  },
  {
   "cell_type": "code",
   "execution_count": 9,
   "metadata": {},
   "outputs": [
    {
     "name": "stdout",
     "output_type": "stream",
     "text": [
      "Enter a = 10\n",
      "Enter b = 0\n",
      "Enter operator + - / *  =/\n",
      "The value of b cant be zero\n"
     ]
    }
   ],
   "source": [
    "a = int(input(\"Enter a = \"))\n",
    "b = int(input(\"Enter b = \"))\n",
    "o = input(\"Enter operator + - / *  =\")\n",
    "if o == '+':\n",
    "    print(\"a+b=\",a+b)\n",
    "elif o == '-':\n",
    "    print(\"a-b=\",a-b)\n",
    "elif o == '*':\n",
    "    print(\"a*b=\",a*b)\n",
    "elif o == '/' and b !=0:\n",
    "    print(\"a/b=\",a/b)\n",
    "elif o =='/' and b ==0:\n",
    "    print(\"The value of b cant be zero\")\n",
    "else:\n",
    "    print(\"You entered invalid operetor\")"
   ]
  },
  {
   "cell_type": "code",
   "execution_count": 10,
   "metadata": {},
   "outputs": [
    {
     "name": "stdout",
     "output_type": "stream",
     "text": [
      "Enter a = 10\n",
      "Enter b = 2\n",
      "Enter operator + - / *  =/\n",
      "a/b= 5.0\n"
     ]
    }
   ],
   "source": [
    "a = int(input(\"Enter a = \"))\n",
    "b = int(input(\"Enter b = \"))\n",
    "o = input(\"Enter operator + - / *  =\")\n",
    "if o == '+':\n",
    "    print(\"a+b=\",a+b)\n",
    "elif o == '-':\n",
    "    print(\"a-b=\",a-b)\n",
    "elif o == '*':\n",
    "    print(\"a*b=\",a*b)\n",
    "elif o == '/':\n",
    "    if b==0:\n",
    "        print(\"The value of b can not be zero.\")\n",
    "    else:\n",
    "        print(\"a/b=\",a/b)\n",
    "else:\n",
    "    print(\"You entered invalid operetor\")"
   ]
  },
  {
   "cell_type": "code",
   "execution_count": 11,
   "metadata": {},
   "outputs": [
    {
     "name": "stdout",
     "output_type": "stream",
     "text": [
      "Enter a = 10\n",
      "Enter b = 30\n",
      "Enter operator + - / *  =/\n",
      "a/b= 0.3333333333333333\n",
      "Enter y for more calculationy\n",
      "Enter a = 10\n",
      "Enter b = 4\n",
      "Enter operator + - / *  =+\n",
      "a+b= 14\n",
      "Enter y for more calculationjkhj\n"
     ]
    }
   ],
   "source": [
    "def cal():\n",
    "    a = int(input(\"Enter a = \"))\n",
    "    b = int(input(\"Enter b = \"))\n",
    "    o = input(\"Enter operator + - / *  =\")\n",
    "    if o == '+':\n",
    "        print(\"a+b=\",a+b)\n",
    "    elif o == '-':\n",
    "        print(\"a-b=\",a-b)\n",
    "    elif o == '*':\n",
    "        print(\"a*b=\",a*b)\n",
    "    elif o == '/':\n",
    "        if b==0:\n",
    "            print(\"The value of b can not be zero.\")\n",
    "            cal()\n",
    "        else:\n",
    "            print(\"a/b=\",a/b)\n",
    "    else:\n",
    "        print(\"You entered invalid operetor\")\n",
    "    \n",
    "    x = input(\"Enter y for more calculation\")\n",
    "    if x == 'y':\n",
    "        cal() \n",
    "        \n",
    "cal()"
   ]
  },
  {
   "cell_type": "code",
   "execution_count": null,
   "metadata": {},
   "outputs": [],
   "source": [
    "def add(a,b):\n",
    "    return a+b\n",
    "def sub(a,b):\n",
    "    return a-b\n",
    "def mul(a,b):\n",
    "    return a*b\n",
    "def div(a,b):\n",
    "    return a/b\n",
    "\n",
    "a = int(input(\"Enter a = \"))\n",
    "b = int(input(\"Enter b = \"))\n",
    "o = input(\"Enter operator + - / *  =\")\n",
    "if o == '+':\n",
    "    print(\"a+b=\",add(a,b))\n",
    "elif o == '-':\n",
    "    print(\"a-b=\",sub(a,b))\n",
    "elif o == '*':\n",
    "    print(\"a*b=\",mul(a,b))\n",
    "elif o == '/':\n",
    "    if b==0:\n",
    "        print(\"The value of b can not be zero.\")\n",
    "    else:\n",
    "        print(\"a/b=\",div(a,b))\n",
    "else:\n",
    "    print(\"You entered invalid operetor\")"
   ]
  },
  {
   "cell_type": "code",
   "execution_count": 12,
   "metadata": {},
   "outputs": [
    {
     "name": "stdout",
     "output_type": "stream",
     "text": [
      "(12, 60)\n"
     ]
    }
   ],
   "source": [
    "def cal(l,b,h):\n",
    "    a = l*b\n",
    "    v = l*b*h\n",
    "    return a,v\n",
    "\n",
    "x = cal(3,4,5)\n",
    "print(x)"
   ]
  },
  {
   "cell_type": "code",
   "execution_count": 13,
   "metadata": {},
   "outputs": [
    {
     "name": "stdout",
     "output_type": "stream",
     "text": [
      "Area is 12\n",
      "volume is 60\n"
     ]
    }
   ],
   "source": [
    "area,volume = x\n",
    "print(\"Area is\",area)\n",
    "print(\"volume is\",volume)"
   ]
  },
  {
   "cell_type": "code",
   "execution_count": null,
   "metadata": {},
   "outputs": [],
   "source": [
    "# Function with argument and no return type\n",
    "#passing array as an argument\n",
    "def cal(a):\n",
    "    x,y,z =a\n",
    "    v = x*y*z\n",
    "    print(\"Volume is = \",v)\n",
    "    \n",
    "l = int(input(\"Enter l= \"))\n",
    "b = int(input(\"Enter b = \"))\n",
    "h = int(input(\"Enter h = \"))\n",
    "\n",
    "a = (l,b,h)  #array\n",
    "\n",
    "cal(a)"
   ]
  },
  {
   "cell_type": "code",
   "execution_count": 15,
   "metadata": {},
   "outputs": [
    {
     "name": "stdout",
     "output_type": "stream",
     "text": [
      "Java\n",
      ".Net\n",
      "Php\n",
      "Python\n"
     ]
    }
   ],
   "source": [
    "# default value in function\n",
    "def language(lan=\"Python\"):\n",
    "    print(lan)\n",
    "    \n",
    "language(\"Java\")\n",
    "language(\".Net\")\n",
    "language(\"Php\")\n",
    "language()"
   ]
  },
  {
   "cell_type": "code",
   "execution_count": null,
   "metadata": {},
   "outputs": [],
   "source": []
  }
 ],
 "metadata": {
  "kernelspec": {
   "display_name": "Python 3",
   "language": "python",
   "name": "python3"
  },
  "language_info": {
   "codemirror_mode": {
    "name": "ipython",
    "version": 3
   },
   "file_extension": ".py",
   "mimetype": "text/x-python",
   "name": "python",
   "nbconvert_exporter": "python",
   "pygments_lexer": "ipython3",
   "version": "3.7.1"
  }
 },
 "nbformat": 4,
 "nbformat_minor": 2
}
