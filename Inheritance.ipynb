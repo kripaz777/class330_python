{
 "cells": [
  {
   "cell_type": "code",
   "execution_count": 4,
   "metadata": {},
   "outputs": [
    {
     "name": "stdout",
     "output_type": "stream",
     "text": [
      "Hello I am Sita. I am from PK college.\n",
      "Sita PK\n"
     ]
    }
   ],
   "source": [
    "class Information:\n",
    "    def __init__(self,name,college):\n",
    "        self.name = name\n",
    "        self.college = college\n",
    "    def info(self):\n",
    "        print(self.name,self.college)\n",
    "        \n",
    "class Hr(Information):\n",
    "    def hr(self):\n",
    "        print(f\"Hello I am {self.name}. I am from {self.college} college.\")\n",
    "        \n",
    "obj = Hr(\"Sita\",\"PK\")\n",
    "obj.hr()\n",
    "obj.info()"
   ]
  },
  {
   "cell_type": "code",
   "execution_count": 5,
   "metadata": {},
   "outputs": [
    {
     "name": "stdout",
     "output_type": "stream",
     "text": [
      "Hello I am Sita. I am from PK college.It is at Bagbazzar\n",
      "Sita PK\n"
     ]
    }
   ],
   "source": [
    "class Information:\n",
    "    def __init__(self,name,college):\n",
    "        self.name = name\n",
    "        self.college = college\n",
    "    def info(self):\n",
    "        print(self.name,self.college)\n",
    "        \n",
    "class Hr(Information):\n",
    "    def hr(self,add):\n",
    "        print(f\"Hello I am {self.name}. I am from {self.college} college.It is at {add}\")\n",
    "        \n",
    "obj = Hr(\"Sita\",\"PK\")\n",
    "obj.hr(\"Bagbazzar\")\n",
    "obj.info()"
   ]
  },
  {
   "cell_type": "code",
   "execution_count": 8,
   "metadata": {},
   "outputs": [
    {
     "name": "stdout",
     "output_type": "stream",
     "text": [
      "Hari 45\n",
      "Hello I am Hari.And I am 45\n"
     ]
    }
   ],
   "source": [
    "class A:\n",
    "    def __init__(self,name,age):\n",
    "        self.name = name\n",
    "        self.age = age\n",
    "class B(A):\n",
    "    def text(self):\n",
    "        print(f\"Hello I am {self.name}.And I am {self.age}\")\n",
    "class C(B):\n",
    "    def last(self):\n",
    "        print(self.name,self.age)\n",
    "              \n",
    "x = C(\"Hari\",45)\n",
    "              \n",
    "x.last()\n",
    "x.text()"
   ]
  },
  {
   "cell_type": "code",
   "execution_count": 8,
   "metadata": {},
   "outputs": [
    {
     "name": "stdout",
     "output_type": "stream",
     "text": [
      "Hari 34\n",
      "Hello I am Shyam\n",
      "I am 34\n",
      "Shyam\n"
     ]
    }
   ],
   "source": [
    "class A:\n",
    "    def __init__(self,name):\n",
    "        self.name = name\n",
    "    def hi(self):\n",
    "        print(f\"Hello I am {self.name}\")\n",
    "                 \n",
    "class B:\n",
    "    def __init__(self,age):\n",
    "        self.age = age\n",
    "                 \n",
    "    def text(self):\n",
    "        print(f\"I am {self.age}\")\n",
    "                 \n",
    "                 \n",
    "class C(A,B):\n",
    "    def __init__(self,name,age):\n",
    "        A.__init__(self,name)\n",
    "        B.__init__(self,age)\n",
    "    def last(self):\n",
    "        print(self.name,self.age)\n",
    "              \n",
    "a = A('Shyam')\n",
    "b = B(34)\n",
    "\n",
    "c = C(\"Hari\",34)\n",
    "c.last()\n",
    "a.hi()\n",
    "b.text()\n",
    "print(a.name)"
   ]
  },
  {
   "cell_type": "code",
   "execution_count": 19,
   "metadata": {},
   "outputs": [
    {
     "name": "stdout",
     "output_type": "stream",
     "text": [
      "Hello I am Hari\n"
     ]
    }
   ],
   "source": [
    "c.hi()"
   ]
  },
  {
   "cell_type": "code",
   "execution_count": 9,
   "metadata": {},
   "outputs": [
    {
     "name": "stdout",
     "output_type": "stream",
     "text": [
      "Hari 34 9867554543\n",
      "Hello I am Shyam\n",
      "I am 34\n",
      "Shyam\n"
     ]
    }
   ],
   "source": [
    "class A:\n",
    "    def __init__(self,name):\n",
    "        self.name = name\n",
    "    def hi(self):\n",
    "        print(f\"Hello I am {self.name}\")\n",
    "class B:\n",
    "    def __init__(self,age):\n",
    "        self.age = age\n",
    "                 \n",
    "    def text(self):\n",
    "        print(f\"I am {self.age}\")\n",
    "class C(A,B):\n",
    "    def __init__(self,name,age,phone):\n",
    "        A.__init__(self,name)\n",
    "        B.__init__(self,age)\n",
    "        self.phone = phone\n",
    "    def last(self):\n",
    "        print(self.name,self.age,self.phone)\n",
    "              \n",
    "a = A('Shyam')\n",
    "b = B(34)\n",
    "c = C(\"Hari\",34,9867554543)\n",
    "c.last()\n",
    "a.hi()\n",
    "b.text()\n",
    "print(a.name)"
   ]
  },
  {
   "cell_type": "code",
   "execution_count": null,
   "metadata": {},
   "outputs": [],
   "source": [
    "class Information:\n",
    "    def __init__(self,name,college):\n",
    "        self.name = name\n",
    "        self.college = college\n",
    "    def info(self):\n",
    "        print(self.name,self.college)\n",
    "        \n",
    "class Hr(Information):\n",
    "    def __init__(self,name,college,nationality):\n",
    "        Information. __init__(self,name,college)\n",
    "        self.nationality = nationality\n",
    "        \n",
    "        \n",
    "    def hr(self,add):\n",
    "        print(f\"Hello I am {self.name}. I am from {self.college} college.\n",
    "              It is at {add},my nationality is {nationality}\")\n",
    "        \n",
    "obj = Hr(\"Sita\",\"PK\",\"Nepali\")\n",
    "obj.hr(\"Bagbazzar\")\n",
    "obj.info()"
   ]
  },
  {
   "cell_type": "code",
   "execution_count": 14,
   "metadata": {},
   "outputs": [
    {
     "name": "stdout",
     "output_type": "stream",
     "text": [
      "Hello I am Sita. I am from PK college.It is at Bagbazzar,my nationality is Nepali\n",
      "Sita PK\n"
     ]
    }
   ],
   "source": [
    "# super()\n",
    "\n",
    "class Information:\n",
    "    def __init__(self,name,college):\n",
    "        self.name = name\n",
    "        self.college = college\n",
    "    def info(self):\n",
    "        print(self.name,self.college)\n",
    "        \n",
    "class Hr(Information):\n",
    "    def __init__(self,name,college,nationality):\n",
    "        Information. __init__(self,name,college)\n",
    "        self.nationality = nationality\n",
    "        \n",
    "        \n",
    "    def hr(self,add):\n",
    "        print(f\"Hello I am {self.name}. I am from {self.college} college.It is at {add},my nationality is {self.nationality}\")\n",
    "    def the_super_function(self):\n",
    "        super().info()\n",
    "        \n",
    "obj = Hr(\"Sita\",\"PK\",\"Nepali\")\n",
    "obj.hr(\"Bagbazzar\")\n",
    "\n",
    "obj.the_super_function()"
   ]
  },
  {
   "cell_type": "code",
   "execution_count": 18,
   "metadata": {},
   "outputs": [
    {
     "name": "stdout",
     "output_type": "stream",
     "text": [
      "Hello I am Riya. I am from PK college.It is at Bagbazzar,my nationality is Nepali\n",
      "Riya\n"
     ]
    }
   ],
   "source": [
    "# super()\n",
    "\n",
    "class Information:\n",
    "    def __init__(self,name,college):\n",
    "        self.name = name\n",
    "        self.college = college\n",
    "        self.nick_name = \"Riya\"\n",
    "    def info(self):\n",
    "        return self.nick_name\n",
    "        \n",
    "class Hr(Information):\n",
    "    def __init__(self,name,college,nationality):\n",
    "        Information. __init__(self,name,college)\n",
    "        self.nationality = nationality\n",
    "        \n",
    "        \n",
    "    def hr(self,add):\n",
    "        print(f\"Hello I am {super().info()}. I am from {self.college} college.It is at {add},my nationality is {self.nationality}\")\n",
    "    def the_super_function(self):\n",
    "        print(super().info())\n",
    "        \n",
    "obj = Hr(\"Sita\",\"PK\",\"Nepali\")\n",
    "obj.hr(\"Bagbazzar\")\n",
    "\n",
    "obj.the_super_function()"
   ]
  },
  {
   "cell_type": "code",
   "execution_count": 24,
   "metadata": {},
   "outputs": [
    {
     "name": "stdout",
     "output_type": "stream",
     "text": [
      "Hello I am Sita.It is at Bagbazzar\n",
      "Sita PK\n"
     ]
    },
    {
     "data": {
      "text/plain": [
       "'Sita'"
      ]
     },
     "execution_count": 24,
     "metadata": {},
     "output_type": "execute_result"
    }
   ],
   "source": [
    "class Information:\n",
    "    def __init__(self,name,college):\n",
    "        self._name = name\n",
    "        self.__college = college\n",
    "    def info(self):\n",
    "        print(self._name,self.__college)\n",
    "        \n",
    "class Hr(Information):\n",
    "    def hr(self,add):\n",
    "        print(f\"Hello I am {self._name}.It is at {add}\")\n",
    "        \n",
    "obj = Hr(\"Sita\",\"PK\")\n",
    "obj.hr(\"Bagbazzar\")\n",
    "obj.info()\n",
    "obj._name"
   ]
  },
  {
   "cell_type": "code",
   "execution_count": 25,
   "metadata": {},
   "outputs": [
    {
     "name": "stdout",
     "output_type": "stream",
     "text": [
      "Hello I am Sita.I study in PK.It is at Bagbazzar\n",
      "Sita PK\n"
     ]
    },
    {
     "data": {
      "text/plain": [
       "'Sita'"
      ]
     },
     "execution_count": 25,
     "metadata": {},
     "output_type": "execute_result"
    }
   ],
   "source": [
    "class Information:\n",
    "    def __init__(self,name,college):\n",
    "        self._name = name\n",
    "        self.__college = college\n",
    "    def info(self):\n",
    "        print(self._name,self.__college)\n",
    "    def college(self):\n",
    "        return self.__college\n",
    "        \n",
    "class Hr(Information):\n",
    "    def hr(self,add):\n",
    "        print(f\"Hello I am {self._name}.I study in {super().college()}.It is at {add}\")\n",
    "        \n",
    "obj = Hr(\"Sita\",\"PK\")\n",
    "obj.hr(\"Bagbazzar\")\n",
    "obj.info()\n",
    "obj._name"
   ]
  },
  {
   "cell_type": "code",
   "execution_count": 26,
   "metadata": {},
   "outputs": [
    {
     "name": "stdout",
     "output_type": "stream",
     "text": [
      "Hello I am Sita.It is at Bagbazzar\n",
      "Sita PK\n",
      "Sita\n"
     ]
    },
    {
     "data": {
      "text/plain": [
       "'PK'"
      ]
     },
     "execution_count": 26,
     "metadata": {},
     "output_type": "execute_result"
    }
   ],
   "source": [
    "class Information:\n",
    "    def __init__(self,name,college):\n",
    "        self._name = name\n",
    "        self.__college = college\n",
    "    def info(self):\n",
    "        print(self._name,self.__college)\n",
    "        \n",
    "class Hr(Information):\n",
    "    def hr(self,add):\n",
    "        print(f\"Hello I am {self._name}.It is at {add}\")\n",
    "        \n",
    "obj = Hr(\"Sita\",\"PK\")\n",
    "obj.hr(\"Bagbazzar\")\n",
    "obj.info()\n",
    "print(obj._name)\n",
    "\n",
    "print(obj._Information__college)"
   ]
  },
  {
   "cell_type": "code",
   "execution_count": 27,
   "metadata": {},
   "outputs": [
    {
     "name": "stdout",
     "output_type": "stream",
     "text": [
      "Hello I am Sita.I study in PK.It is at Bagbazzar\n",
      "Sita PK\n"
     ]
    },
    {
     "data": {
      "text/plain": [
       "'Sita'"
      ]
     },
     "execution_count": 27,
     "metadata": {},
     "output_type": "execute_result"
    }
   ],
   "source": [
    "class Information:\n",
    "    def __init__(self,name,college):\n",
    "        self._name = name\n",
    "        self.__college = college\n",
    "    def info(self):\n",
    "        print(self._name,self.__college)\n",
    "    def college(self):\n",
    "        return self.__college\n",
    "        \n",
    "class Hr(Information):\n",
    "    def hr(self,add):\n",
    "        print(f\"Hello I am {self._name}.I study in {self._Information__college}.It is at {add}\")\n",
    "        \n",
    "obj = Hr(\"Sita\",\"PK\")\n",
    "obj.hr(\"Bagbazzar\")\n",
    "obj.info()\n",
    "obj._name"
   ]
  },
  {
   "cell_type": "code",
   "execution_count": 28,
   "metadata": {},
   "outputs": [],
   "source": [
    "_name = 10"
   ]
  },
  {
   "cell_type": "code",
   "execution_count": 32,
   "metadata": {},
   "outputs": [
    {
     "name": "stdout",
     "output_type": "stream",
     "text": [
      "30\n"
     ]
    }
   ],
   "source": [
    "__name = 30\n",
    "print(__name)"
   ]
  },
  {
   "cell_type": "code",
   "execution_count": 31,
   "metadata": {},
   "outputs": [
    {
     "name": "stdout",
     "output_type": "stream",
     "text": [
      "10\n"
     ]
    }
   ],
   "source": [
    "print(_name)"
   ]
  },
  {
   "cell_type": "code",
   "execution_count": null,
   "metadata": {},
   "outputs": [],
   "source": []
  }
 ],
 "metadata": {
  "kernelspec": {
   "display_name": "Python 3",
   "language": "python",
   "name": "python3"
  },
  "language_info": {
   "codemirror_mode": {
    "name": "ipython",
    "version": 3
   },
   "file_extension": ".py",
   "mimetype": "text/x-python",
   "name": "python",
   "nbconvert_exporter": "python",
   "pygments_lexer": "ipython3",
   "version": "3.7.1"
  }
 },
 "nbformat": 4,
 "nbformat_minor": 2
}
