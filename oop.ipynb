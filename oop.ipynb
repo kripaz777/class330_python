{
 "cells": [
  {
   "cell_type": "code",
   "execution_count": 1,
   "metadata": {},
   "outputs": [],
   "source": [
    "# class <class name>:\n",
    "#     <methods>\n",
    "#     <operations>\n",
    "\n",
    "# obj = <class_name>()\n",
    "# obj.methods()"
   ]
  },
  {
   "cell_type": "code",
   "execution_count": 3,
   "metadata": {},
   "outputs": [
    {
     "name": "stdout",
     "output_type": "stream",
     "text": [
      "Hello world\n"
     ]
    }
   ],
   "source": [
    "class Hello:\n",
    "    def hello(self):\n",
    "        print(\"Hello world\")\n",
    "        \n",
    "obj = Hello()\n",
    "obj.hello()"
   ]
  },
  {
   "cell_type": "code",
   "execution_count": 4,
   "metadata": {},
   "outputs": [
    {
     "name": "stdout",
     "output_type": "stream",
     "text": [
      "Hello world\n"
     ]
    }
   ],
   "source": [
    "class Hello:\n",
    "    def hello(self,x):\n",
    "        print(x)\n",
    "        \n",
    "obj = Hello()\n",
    "obj.hello(\"Hello world\")"
   ]
  },
  {
   "cell_type": "code",
   "execution_count": 6,
   "metadata": {},
   "outputs": [
    {
     "name": "stdout",
     "output_type": "stream",
     "text": [
      "Hello world\n"
     ]
    }
   ],
   "source": [
    "class Hello:   #class\n",
    "    def hello(x,self):    #method\n",
    "        print(self)\n",
    "        \n",
    "obj = Hello()          #object\n",
    "obj.hello(\"Hello world\")  #calling method"
   ]
  },
  {
   "cell_type": "code",
   "execution_count": 9,
   "metadata": {},
   "outputs": [
    {
     "name": "stdout",
     "output_type": "stream",
     "text": [
      "The area is  12\n",
      "Rge volume is  120\n"
     ]
    }
   ],
   "source": [
    "class Cal:\n",
    "    def area(self,l,b):\n",
    "        return l*b\n",
    "    \n",
    "    def volume(self,l,b,h):\n",
    "        return l*b*h\n",
    "    \n",
    "obj = Cal()\n",
    "a =obj.area(3,4)\n",
    "b = obj.volume(4,5,6)\n",
    "print(\"The area is \",a)\n",
    "print(\"Rge volume is \",b)"
   ]
  },
  {
   "cell_type": "code",
   "execution_count": 1,
   "metadata": {},
   "outputs": [
    {
     "name": "stdout",
     "output_type": "stream",
     "text": [
      "Enter l = 4\n",
      "Enter b = 5\n",
      "Enter h = 6\n",
      "The area is  20\n",
      "Rge volume is  120\n"
     ]
    }
   ],
   "source": [
    "class Cal:\n",
    "    def area(self,l,b):\n",
    "        return l*b\n",
    "    \n",
    "    def volume(self,l,b,h):\n",
    "        return l*b*h\n",
    "    \n",
    "    \n",
    "obj = Cal()\n",
    "l = int(input(\"Enter l = \"))\n",
    "b = int(input(\"Enter b = \"))\n",
    "h = int(input(\"Enter h = \"))\n",
    "\n",
    "a =obj.area(l,b)\n",
    "b = obj.volume(l,b,h)\n",
    "print(\"The area is \",a)\n",
    "print(\"The volume is \",b)"
   ]
  },
  {
   "cell_type": "code",
   "execution_count": 4,
   "metadata": {},
   "outputs": [
    {
     "name": "stdout",
     "output_type": "stream",
     "text": [
      "Hello my name is Ram.I study in grade 10. I live in Patan.\n"
     ]
    }
   ],
   "source": [
    "class Info:\n",
    "    def __init__(self,name,grade,add):\n",
    "        self.n = name\n",
    "        self.g = grade\n",
    "        self.a = add\n",
    "        \n",
    "    def info(self):\n",
    "        print(f\"Hello my name is {self.n}.I study in grade {self.g}. I live in {self.a}.\")\n",
    "    \n",
    "    \n",
    "obj = Info(\"Ram\",10,'Patan')\n",
    "obj.info()"
   ]
  },
  {
   "cell_type": "code",
   "execution_count": 3,
   "metadata": {},
   "outputs": [
    {
     "name": "stdout",
     "output_type": "stream",
     "text": [
      "Hello my name is Ram.I study in grade 10. I live in Patan.\n"
     ]
    }
   ],
   "source": [
    "class Info:\n",
    "    def __init__(self,name,grade,add):\n",
    "        self.name = name\n",
    "        self.grade = grade\n",
    "        self.add = add\n",
    "        \n",
    "    def info(this):\n",
    "        print(f\"Hello my name is {this.name}.I study in grade {this.grade}. I live in {this.add}.\")\n",
    "    \n",
    "    \n",
    "obj = Info(\"Ram\",10,'Patan')\n",
    "obj.info()"
   ]
  },
  {
   "cell_type": "code",
   "execution_count": 1,
   "metadata": {},
   "outputs": [
    {
     "name": "stdout",
     "output_type": "stream",
     "text": [
      "Hello my name is Ram.I study in grade 10. I live in Patan.\n"
     ]
    }
   ],
   "source": [
    "class Info:\n",
    "    def __init__(self,name,grade):\n",
    "        self.name = name\n",
    "        self.grade = grade\n",
    "       \n",
    "        \n",
    "    def info(this,add):\n",
    "        print(f\"Hello my name is {this.name}.I study in grade {this.grade}. I live in {add}.\")\n",
    "    \n",
    "    \n",
    "obj = Info(\"Ram\",10)\n",
    "obj.info(\"Patan\")"
   ]
  },
  {
   "cell_type": "code",
   "execution_count": 2,
   "metadata": {},
   "outputs": [
    {
     "name": "stdout",
     "output_type": "stream",
     "text": [
      "Enter name = ram\n",
      "Enter grade = 4\n",
      "Hello my name is ram.I study in grade 4. I live in Patan.\n"
     ]
    }
   ],
   "source": [
    "class Info:\n",
    "    def __init__(self):\n",
    "        self.name = input(\"Enter name = \")\n",
    "        self.grade = input(\"Enter grade = \")\n",
    "       \n",
    "        \n",
    "    def info(this,add):\n",
    "        print(f\"Hello my name is {this.name}.I study in grade {this.grade}. I live in {add}.\")\n",
    "    \n",
    "    \n",
    "obj = Info()\n",
    "obj.info(\"Patan\")"
   ]
  },
  {
   "cell_type": "code",
   "execution_count": 7,
   "metadata": {},
   "outputs": [
    {
     "name": "stdout",
     "output_type": "stream",
     "text": [
      "Enter name = ram\n",
      "Enter grade = 34\n",
      "Hello my name is ram.I study in grade 34. I live in Patan.\n",
      "ram 34\n",
      "ram 34\n"
     ]
    }
   ],
   "source": [
    "class Info:\n",
    "    def __init__(self):\n",
    "        self.name = input(\"Enter name = \")\n",
    "        self.grade = input(\"Enter grade = \")\n",
    "       \n",
    "        \n",
    "    def info(this,add):\n",
    "        print(f\"Hello my name is {this.name}.I study in grade {this.grade}. I live in {add}.\")\n",
    "        \n",
    "    def hi(self):\n",
    "        print(self.name,self.grade)\n",
    "    \n",
    "    \n",
    "obj = Info()\n",
    "obj.info(\"Patan\")\n",
    "obj.hi()\n",
    "\n",
    "print(obj.name,obj.grade)"
   ]
  },
  {
   "cell_type": "code",
   "execution_count": 13,
   "metadata": {},
   "outputs": [
    {
     "name": "stdout",
     "output_type": "stream",
     "text": [
      "Ram\n",
      "Ram Shyam\n"
     ]
    }
   ],
   "source": [
    "# str methods\n",
    "class Info:\n",
    "    def __init__(self,name,grade,add):\n",
    "        self.n = name\n",
    "        self.g = grade\n",
    "        self.a = add\n",
    "        \n",
    "    def __str__(self):\n",
    "        return self.n\n",
    "    \n",
    "    \n",
    "obj = Info(\"Ram\",10,'Patan')\n",
    "print(obj)\n",
    "obj1 = Info(\"Ram Shyam\",10,'Patan')\n",
    "print(obj1)"
   ]
  },
  {
   "cell_type": "code",
   "execution_count": 22,
   "metadata": {},
   "outputs": [
    {
     "name": "stdout",
     "output_type": "stream",
     "text": [
      "name = Ram,grade = 10, add = Patan\n",
      "name = Ram Prasad,grade = 9, add = Kathmandu\n",
      "Hello my name is Ram.I study in grade 10. I live in Patan.\n",
      "Hello my name is Ram Prasad.I study in grade 9. I live in Kathmandu.\n"
     ]
    }
   ],
   "source": [
    "# str methods\n",
    "class Info:\n",
    "    def __init__(self,name,grade,add):\n",
    "        self.n = name\n",
    "        self.g = grade\n",
    "        self.a = add\n",
    "        \n",
    "    def __str__(self):\n",
    "        return f\"name = {self.n},grade = {self.g}, add = {self.a}\"\n",
    "    \n",
    "    def info(this):\n",
    "        print(f\"Hello my name is {this.n}.I study in grade {this.g}. I live in {this.a}.\")\n",
    "        \n",
    "    def hi(self):\n",
    "        print(self.name,self.grade)\n",
    "    \n",
    "obj = Info(\"Ram\",10,'Patan')\n",
    "\n",
    "obj1 = Info(\"Ram Prasad\",9,'Kathmandu')\n",
    "print(obj)\n",
    "print(obj1)\n",
    "# print(obj.__str__())\n",
    "# print(str(obj))\n",
    "obj.info()\n",
    "obj1.info()"
   ]
  },
  {
   "cell_type": "code",
   "execution_count": 24,
   "metadata": {},
   "outputs": [
    {
     "name": "stdout",
     "output_type": "stream",
     "text": [
      "{'Name': 'Ram', 'Grade': 10, 'Add': 'Patan'}\n",
      "{'Name': 'Ram Prasad', 'Grade': 9, 'Add': 'Kathmandu'}\n",
      "Hello my name is Ram.I study in grade 10. I live in Patan.\n",
      "Hello my name is Ram Prasad.I study in grade 9. I live in Kathmandu.\n"
     ]
    }
   ],
   "source": [
    "# repr methods\n",
    "class Info:\n",
    "    def __init__(self,name,grade,add):\n",
    "        self.n = name\n",
    "        self.g = grade\n",
    "        self.a = add\n",
    "        \n",
    "    def __repr__(self):\n",
    "        return {'Name':self.n,'Grade':self.g,'Add':self.a}\n",
    "    \n",
    "    def info(this):\n",
    "        print(f\"Hello my name is {this.n}.I study in grade {this.g}. I live in {this.a}.\")\n",
    "        \n",
    "    def hi(self):\n",
    "        print(self.name,self.grade)\n",
    "    \n",
    "obj = Info(\"Ram\",10,'Patan')\n",
    "\n",
    "obj1 = Info(\"Ram Prasad\",9,'Kathmandu')\n",
    "\n",
    "print(obj.__repr__())\n",
    "print(obj1.__repr__())\n",
    "obj.info()\n",
    "obj1.info()"
   ]
  },
  {
   "cell_type": "code",
   "execution_count": 26,
   "metadata": {},
   "outputs": [
    {
     "name": "stdout",
     "output_type": "stream",
     "text": [
      "<class 'list'>\n",
      "['Ram Prasad', 9, 'Kathmandu']\n",
      "Hello my name is Ram.I study in grade 10. I live in Patan.\n",
      "Hello my name is Ram Prasad.I study in grade 9. I live in Kathmandu.\n"
     ]
    }
   ],
   "source": [
    "# repr methods\n",
    "class Info:\n",
    "    def __init__(self,name,grade,add):\n",
    "        self.n = name\n",
    "        self.g = grade\n",
    "        self.a = add\n",
    "        \n",
    "    def __repr__(self):\n",
    "        return [self.n,self.g,self.a]\n",
    "    \n",
    "    def info(this):\n",
    "        print(f\"Hello my name is {this.n}.I study in grade {this.g}. I live in {this.a}.\")\n",
    "        \n",
    "    def hi(self):\n",
    "        print(self.name,self.grade)\n",
    "    \n",
    "obj = Info(\"Ram\",10,'Patan')\n",
    "\n",
    "obj1 = Info(\"Ram Prasad\",9,'Kathmandu')\n",
    "\n",
    "print(type(obj.__repr__()))\n",
    "print(obj1.__repr__())\n",
    "obj.info()\n",
    "obj1.info()\n"
   ]
  },
  {
   "cell_type": "code",
   "execution_count": 27,
   "metadata": {},
   "outputs": [
    {
     "name": "stdout",
     "output_type": "stream",
     "text": [
      "<class 'type'>\n"
     ]
    }
   ],
   "source": [
    "print(type(Info))"
   ]
  },
  {
   "cell_type": "code",
   "execution_count": 1,
   "metadata": {},
   "outputs": [
    {
     "name": "stdout",
     "output_type": "stream",
     "text": [
      "1,5\n"
     ]
    }
   ],
   "source": [
    "class Point:\n",
    "    def __init__(self, x = 0, y = 0):\n",
    "        self.x = x\n",
    "        self.y = y\n",
    "    \n",
    "    def __str__(self):\n",
    "        return f\"{self.x},{self.y}\"\n",
    "    \n",
    "    def __add__(self,other):\n",
    "        x = self.x + other.x\n",
    "        y = self.y + other.y\n",
    "        return Point(x,y)\n",
    "    \n",
    "p1 = Point(2,3)\n",
    "p2 = Point(-1,2)\n",
    "print(p1 + p2)\n"
   ]
  },
  {
   "cell_type": "code",
   "execution_count": 4,
   "metadata": {},
   "outputs": [
    {
     "name": "stdout",
     "output_type": "stream",
     "text": [
      "2 3\n",
      "-1 2\n",
      "1 4\n",
      "1 5\n",
      "1 5\n",
      "2 9\n",
      "2 9\n",
      "2,9\n"
     ]
    }
   ],
   "source": [
    "class Point:\n",
    "    def __init__(self, x = 0, y = 0):\n",
    "        self.x = x\n",
    "        self.y = y\n",
    "        \n",
    "        print(self.x,self.y)\n",
    "    \n",
    "    def __str__(self):\n",
    "        return f\"{self.x},{self.y}\"\n",
    "    \n",
    "    def __add__(self,other):\n",
    "        x = self.x + other.x\n",
    "        y = self.y + other.y\n",
    "        print(x,y)\n",
    "        return Point(x,y)\n",
    "    \n",
    "p1 = Point(2,3)\n",
    "p2 = Point(-1,2)\n",
    "p3 =Point(1,4)\n",
    "print(p1 +p2+p3)\n"
   ]
  },
  {
   "cell_type": "code",
   "execution_count": 6,
   "metadata": {},
   "outputs": [
    {
     "name": "stdout",
     "output_type": "stream",
     "text": [
      "4000\n",
      "4400\n",
      "4400\n"
     ]
    }
   ],
   "source": [
    "class Point:\n",
    "    def __init__(self, x = 0):\n",
    "        self.x = x\n",
    "    \n",
    "    \n",
    "    def __str__(self):\n",
    "        return f\"{self.x}\"\n",
    "    \n",
    "    def __add__(self,other):\n",
    "        x = self.x + other.x\n",
    "       \n",
    "        return Point(x)\n",
    "    \n",
    "p1 = Point(1000)\n",
    "p2 = Point(3000)\n",
    "p3 =Point(400)\n",
    "print(p1 +p2+p3)\n"
   ]
  },
  {
   "cell_type": "code",
   "execution_count": 1,
   "metadata": {},
   "outputs": [
    {
     "data": {
      "text/plain": [
       "'hello world'"
      ]
     },
     "execution_count": 1,
     "metadata": {},
     "output_type": "execute_result"
    }
   ],
   "source": [
    "def strings(function):\n",
    "    def wrapper():\n",
    "        fun = function()\n",
    "        x = fun.lower()\n",
    "        return x\n",
    "    return wrapper\n",
    "\n",
    "@strings\n",
    "def info():\n",
    "    return 'Hello World'\n",
    "\n",
    "info()\n"
   ]
  },
  {
   "cell_type": "code",
   "execution_count": 7,
   "metadata": {},
   "outputs": [
    {
     "data": {
      "text/plain": [
       "'hello world'"
      ]
     },
     "execution_count": 7,
     "metadata": {},
     "output_type": "execute_result"
    }
   ],
   "source": [
    "def strings(function):\n",
    "    def wrapper():\n",
    "        fun = function()\n",
    "        x = fun.lower()\n",
    "        return x\n",
    "    return wrapper\n",
    "\n",
    "@strings\n",
    "def info():\n",
    "    return 'Hello World'\n",
    "\n",
    "info()\n"
   ]
  },
  {
   "cell_type": "code",
   "execution_count": 8,
   "metadata": {},
   "outputs": [
    {
     "data": {
      "text/plain": [
       "'hello world'"
      ]
     },
     "execution_count": 8,
     "metadata": {},
     "output_type": "execute_result"
    }
   ],
   "source": [
    "info()"
   ]
  },
  {
   "cell_type": "code",
   "execution_count": 2,
   "metadata": {},
   "outputs": [
    {
     "data": {
      "text/plain": [
       "['hellow', 'world']"
      ]
     },
     "execution_count": 2,
     "metadata": {},
     "output_type": "execute_result"
    }
   ],
   "source": [
    "def strings(function):\n",
    "    def wrapper():\n",
    "        fun = function()\n",
    "        x = fun.lower()\n",
    "        return x\n",
    "    return wrapper\n",
    "\n",
    "def split_string(function):\n",
    "    def wrappe():\n",
    "        func = function()\n",
    "        splitted_string = func.split()\n",
    "        return splitted_string\n",
    "\n",
    "    return wrappe\n",
    "@split_string\n",
    "@strings\n",
    "def info():\n",
    "    return 'Hellow World'\n",
    "\n",
    "\n",
    "info()"
   ]
  },
  {
   "cell_type": "code",
   "execution_count": null,
   "metadata": {},
   "outputs": [],
   "source": []
  },
  {
   "cell_type": "code",
   "execution_count": null,
   "metadata": {},
   "outputs": [],
   "source": []
  }
 ],
 "metadata": {
  "kernelspec": {
   "display_name": "Python 3",
   "language": "python",
   "name": "python3"
  },
  "language_info": {
   "codemirror_mode": {
    "name": "ipython",
    "version": 3
   },
   "file_extension": ".py",
   "mimetype": "text/x-python",
   "name": "python",
   "nbconvert_exporter": "python",
   "pygments_lexer": "ipython3",
   "version": "3.7.1"
  }
 },
 "nbformat": 4,
 "nbformat_minor": 2
}
