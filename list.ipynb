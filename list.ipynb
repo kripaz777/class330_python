{
 "cells": [
  {
   "cell_type": "code",
   "execution_count": 1,
   "metadata": {},
   "outputs": [
    {
     "name": "stdout",
     "output_type": "stream",
     "text": [
      "[]\n"
     ]
    }
   ],
   "source": [
    "a = []\n",
    "print(a)"
   ]
  },
  {
   "cell_type": "code",
   "execution_count": 2,
   "metadata": {},
   "outputs": [
    {
     "data": {
      "text/plain": [
       "list"
      ]
     },
     "execution_count": 2,
     "metadata": {},
     "output_type": "execute_result"
    }
   ],
   "source": [
    "type(a)"
   ]
  },
  {
   "cell_type": "code",
   "execution_count": 3,
   "metadata": {},
   "outputs": [],
   "source": [
    "# mutable\n",
    "# It follows indexing\n",
    "# Duplicate members\n",
    "# Ordered"
   ]
  },
  {
   "cell_type": "code",
   "execution_count": 6,
   "metadata": {},
   "outputs": [
    {
     "name": "stdout",
     "output_type": "stream",
     "text": [
      "<class 'list'>\n"
     ]
    }
   ],
   "source": [
    "a = ['Apple','Ball','Cat','Dog']\n",
    "print(type(a))"
   ]
  },
  {
   "cell_type": "code",
   "execution_count": 5,
   "metadata": {},
   "outputs": [
    {
     "data": {
      "text/plain": [
       "list"
      ]
     },
     "execution_count": 5,
     "metadata": {},
     "output_type": "execute_result"
    }
   ],
   "source": [
    "a = [34,5656,243,6767,343,8887]\n",
    "type(a)"
   ]
  },
  {
   "cell_type": "code",
   "execution_count": 8,
   "metadata": {},
   "outputs": [
    {
     "data": {
      "text/plain": [
       "'Cat'"
      ]
     },
     "execution_count": 8,
     "metadata": {},
     "output_type": "execute_result"
    }
   ],
   "source": [
    "a = ['Apple','Ball','Cat','Dog']\n",
    "a[2]"
   ]
  },
  {
   "cell_type": "code",
   "execution_count": 9,
   "metadata": {},
   "outputs": [
    {
     "data": {
      "text/plain": [
       "'Cat'"
      ]
     },
     "execution_count": 9,
     "metadata": {},
     "output_type": "execute_result"
    }
   ],
   "source": [
    "a = ['Apple','Ball','Cat','Dog','Apple']\n",
    "a[2]"
   ]
  },
  {
   "cell_type": "code",
   "execution_count": 10,
   "metadata": {},
   "outputs": [
    {
     "data": {
      "text/plain": [
       "['Apple', 'Ball', 'Cat', 'Dog', 'Apple', 'Fish']"
      ]
     },
     "execution_count": 10,
     "metadata": {},
     "output_type": "execute_result"
    }
   ],
   "source": [
    "a = ['Apple','Ball','Cat','Dog','Apple']\n",
    "b = ['Fish']\n",
    "a+b"
   ]
  },
  {
   "cell_type": "code",
   "execution_count": 11,
   "metadata": {},
   "outputs": [
    {
     "data": {
      "text/plain": [
       "['Fish', 'Apple', 'Ball', 'Cat', 'Dog', 'Apple']"
      ]
     },
     "execution_count": 11,
     "metadata": {},
     "output_type": "execute_result"
    }
   ],
   "source": [
    "a = ['Apple','Ball','Cat','Dog','Apple']\n",
    "b = ['Fish']\n",
    "b+a"
   ]
  },
  {
   "cell_type": "code",
   "execution_count": 12,
   "metadata": {},
   "outputs": [
    {
     "data": {
      "text/plain": [
       "['Fish', 'Fish', 'Fish']"
      ]
     },
     "execution_count": 12,
     "metadata": {},
     "output_type": "execute_result"
    }
   ],
   "source": [
    "b = ['Fish']\n",
    "b*3"
   ]
  },
  {
   "cell_type": "code",
   "execution_count": 13,
   "metadata": {},
   "outputs": [
    {
     "data": {
      "text/plain": [
       "['Ram', '78']"
      ]
     },
     "execution_count": 13,
     "metadata": {},
     "output_type": "execute_result"
    }
   ],
   "source": [
    "name = \"Ram\"\n",
    "age = \"78\"\n",
    "a = []\n",
    "data = [name,age]\n",
    "data"
   ]
  },
  {
   "cell_type": "code",
   "execution_count": 14,
   "metadata": {},
   "outputs": [
    {
     "name": "stdout",
     "output_type": "stream",
     "text": [
      "Enter name =4\n",
      "Enter name = Ram\n",
      "Enter name = Shyam\n",
      "Enter name = Hari\n",
      "Enter name = Gita\n",
      "['Ram', 'Shyam', 'Hari', 'Gita']\n"
     ]
    }
   ],
   "source": [
    "data = []\n",
    "n = int(input(\"Enter name =\"))\n",
    "for i in range(n):\n",
    "    name = input(\"Enter name = \")\n",
    "    data = data+[name]\n",
    "print(data)"
   ]
  },
  {
   "cell_type": "code",
   "execution_count": 15,
   "metadata": {},
   "outputs": [
    {
     "name": "stdout",
     "output_type": "stream",
     "text": [
      "Enter name =2\n",
      "Enter name = Ram\n",
      "Enter name = Shyam\n",
      "['Ram', 'Shyam']\n"
     ]
    }
   ],
   "source": [
    "#append()\n",
    "data = []\n",
    "n = int(input(\"Enter name =\"))\n",
    "for i in range(n):\n",
    "    name = input(\"Enter name = \")\n",
    "    data.append(name)\n",
    "print(data)"
   ]
  },
  {
   "cell_type": "code",
   "execution_count": 16,
   "metadata": {},
   "outputs": [
    {
     "name": "stdout",
     "output_type": "stream",
     "text": [
      "Ram\n",
      "Shyam\n"
     ]
    }
   ],
   "source": [
    "for i in data:\n",
    "    print(i)"
   ]
  },
  {
   "cell_type": "code",
   "execution_count": 17,
   "metadata": {},
   "outputs": [
    {
     "name": "stdout",
     "output_type": "stream",
     "text": [
      "Ram\n",
      "Shyam\n"
     ]
    }
   ],
   "source": [
    "a = ['Ram', 'Shyam', 'Hari', 'Gita']\n",
    "for i in a:\n",
    "    if i == 'Hari':\n",
    "        break\n",
    "    print(i)"
   ]
  },
  {
   "cell_type": "code",
   "execution_count": 18,
   "metadata": {},
   "outputs": [
    {
     "name": "stdout",
     "output_type": "stream",
     "text": [
      "Ram\n",
      "Shyam\n",
      "Gita\n"
     ]
    }
   ],
   "source": [
    "a = ['Ram', 'Shyam', 'Hari', 'Gita']\n",
    "for i in a:\n",
    "    if i == 'Hari':\n",
    "        continue\n",
    "    print(i)"
   ]
  },
  {
   "cell_type": "code",
   "execution_count": 21,
   "metadata": {},
   "outputs": [
    {
     "data": {
      "text/plain": [
       "['Ram Prasad', 'Shyam', 'Hari', 'Gita']"
      ]
     },
     "execution_count": 21,
     "metadata": {},
     "output_type": "execute_result"
    }
   ],
   "source": [
    "a = ['Ram', 'Shyam', 'Hari', 'Gita']\n",
    "a[0] = 'Ram Prasad'\n",
    "a"
   ]
  },
  {
   "cell_type": "code",
   "execution_count": 24,
   "metadata": {},
   "outputs": [
    {
     "data": {
      "text/plain": [
       "2"
      ]
     },
     "execution_count": 24,
     "metadata": {},
     "output_type": "execute_result"
    }
   ],
   "source": [
    "a.index('Hari')"
   ]
  },
  {
   "cell_type": "code",
   "execution_count": 25,
   "metadata": {},
   "outputs": [
    {
     "data": {
      "text/plain": [
       "['Ram Prasad', 'Shyam', 'Harry', 'Gita']"
      ]
     },
     "execution_count": 25,
     "metadata": {},
     "output_type": "execute_result"
    }
   ],
   "source": [
    "a[2]='Harry'\n",
    "a"
   ]
  },
  {
   "cell_type": "code",
   "execution_count": 28,
   "metadata": {},
   "outputs": [
    {
     "name": "stdout",
     "output_type": "stream",
     "text": [
      "['Ram Prasad', 'Shyam', 'Harry']\n"
     ]
    }
   ],
   "source": [
    "a = ['Ram Prasad', 'Shyam', 'Harry', 'Gita']\n",
    "index = a.index('Gita')\n",
    "del a[index]\n",
    "print(a)"
   ]
  },
  {
   "cell_type": "code",
   "execution_count": 29,
   "metadata": {},
   "outputs": [
    {
     "name": "stdout",
     "output_type": "stream",
     "text": [
      "Enter name = Gita\n",
      "['Ram Prasad', 'Shyam', 'Harry']\n"
     ]
    }
   ],
   "source": [
    "a = ['Ram Prasad', 'Shyam', 'Harry', 'Gita']\n",
    "name = input(\"Enter name = \")\n",
    "index = a.index(name)\n",
    "del a[index]\n",
    "print(a)"
   ]
  },
  {
   "cell_type": "code",
   "execution_count": 31,
   "metadata": {},
   "outputs": [
    {
     "ename": "NameError",
     "evalue": "name 'a' is not defined",
     "output_type": "error",
     "traceback": [
      "\u001b[1;31m---------------------------------------------------------------------------\u001b[0m",
      "\u001b[1;31mNameError\u001b[0m                                 Traceback (most recent call last)",
      "\u001b[1;32m<ipython-input-31-64233fbbf23d>\u001b[0m in \u001b[0;36m<module>\u001b[1;34m\u001b[0m\n\u001b[0;32m      1\u001b[0m \u001b[0ma\u001b[0m \u001b[1;33m=\u001b[0m \u001b[1;33m[\u001b[0m\u001b[1;34m'Ram Prasad'\u001b[0m\u001b[1;33m,\u001b[0m \u001b[1;34m'Shyam'\u001b[0m\u001b[1;33m,\u001b[0m \u001b[1;34m'Harry'\u001b[0m\u001b[1;33m,\u001b[0m \u001b[1;34m'Gita'\u001b[0m\u001b[1;33m]\u001b[0m\u001b[1;33m\u001b[0m\u001b[1;33m\u001b[0m\u001b[0m\n\u001b[0;32m      2\u001b[0m \u001b[1;32mdel\u001b[0m \u001b[0ma\u001b[0m\u001b[1;33m\u001b[0m\u001b[1;33m\u001b[0m\u001b[0m\n\u001b[1;32m----> 3\u001b[1;33m \u001b[0mprint\u001b[0m\u001b[1;33m(\u001b[0m\u001b[0ma\u001b[0m\u001b[1;33m)\u001b[0m\u001b[1;33m\u001b[0m\u001b[1;33m\u001b[0m\u001b[0m\n\u001b[0m",
      "\u001b[1;31mNameError\u001b[0m: name 'a' is not defined"
     ]
    }
   ],
   "source": [
    "a = ['Ram Prasad', 'Shyam', 'Harry', 'Gita']\n",
    "del a\n",
    "print(a)"
   ]
  },
  {
   "cell_type": "code",
   "execution_count": 30,
   "metadata": {},
   "outputs": [
    {
     "data": {
      "text/plain": [
       "['Ram Prasad', 'Shyam', 'Harry']"
      ]
     },
     "execution_count": 30,
     "metadata": {},
     "output_type": "execute_result"
    }
   ],
   "source": [
    "a = ['Ram Prasad', 'Shyam', 'Harry', 'Gita']\n",
    "a.remove('Gita')\n",
    "a"
   ]
  },
  {
   "cell_type": "code",
   "execution_count": 33,
   "metadata": {},
   "outputs": [
    {
     "name": "stdout",
     "output_type": "stream",
     "text": [
      "['Ram Prasad', 'Harry', 'Gita']\n"
     ]
    }
   ],
   "source": [
    "a = ['Ram Prasad', 'Shyam', 'Harry', 'Gita']\n",
    "a.pop(1)\n",
    "print(a)"
   ]
  },
  {
   "cell_type": "code",
   "execution_count": 34,
   "metadata": {},
   "outputs": [
    {
     "name": "stdout",
     "output_type": "stream",
     "text": [
      "a =  ['Ram Prasad', 'Harry', 'Gita']\n",
      "b =  Shyam\n"
     ]
    }
   ],
   "source": [
    "a = ['Ram Prasad', 'Shyam', 'Harry', 'Gita']\n",
    "b = a.pop(1)\n",
    "print(\"a = \",a)\n",
    "print(\"b = \",b)"
   ]
  },
  {
   "cell_type": "code",
   "execution_count": 37,
   "metadata": {},
   "outputs": [
    {
     "name": "stdout",
     "output_type": "stream",
     "text": [
      "Enter name =5\n",
      "Enter name = ram\n",
      "Enter name = Zebra\n",
      "Enter name = .Apple\n",
      "Enter name = Xray\n",
      "Enter name = 1apple\n",
      "['ram', 'Zebra', '.Apple', 'Xray', '1apple']\n"
     ]
    }
   ],
   "source": [
    "#append() and sort()\n",
    "data = []\n",
    "n = int(input(\"Enter name =\"))\n",
    "for i in range(n):\n",
    "    name = input(\"Enter name = \")\n",
    "    data.append(name)\n",
    "print(data)\n",
    "data.sort()"
   ]
  },
  {
   "cell_type": "code",
   "execution_count": 38,
   "metadata": {},
   "outputs": [
    {
     "data": {
      "text/plain": [
       "['.Apple', '1apple', 'Xray', 'Zebra', 'ram']"
      ]
     },
     "execution_count": 38,
     "metadata": {},
     "output_type": "execute_result"
    }
   ],
   "source": [
    "data"
   ]
  },
  {
   "cell_type": "code",
   "execution_count": 39,
   "metadata": {},
   "outputs": [
    {
     "data": {
      "text/plain": [
       "['.Apple', '1apple', 'Xray', 'Zebra', 'ram']"
      ]
     },
     "execution_count": 39,
     "metadata": {},
     "output_type": "execute_result"
    }
   ],
   "source": [
    "a = ['ram', 'Zebra', '.Apple', 'Xray', '1apple']\n",
    "sorted(a)"
   ]
  },
  {
   "cell_type": "code",
   "execution_count": 40,
   "metadata": {},
   "outputs": [
    {
     "name": "stdout",
     "output_type": "stream",
     "text": [
      "['ram', 'Zebra', '.Apple', 'Xray', '1apple']\n"
     ]
    }
   ],
   "source": [
    "print(a)"
   ]
  },
  {
   "cell_type": "code",
   "execution_count": 41,
   "metadata": {},
   "outputs": [
    {
     "name": "stdout",
     "output_type": "stream",
     "text": [
      "Enter name =10\n",
      "Enter name = 213\n",
      "Enter name = 34\n",
      "Enter name = 456\n",
      "Enter name = 34\n",
      "Enter name = 657\n",
      "Enter name = 344\n",
      "Enter name = 7\n",
      "Enter name = 34\n",
      "Enter name = 67\n",
      "Enter name = 7876\n",
      "[213, 34, 456, 34, 657, 344, 7, 34, 67, 7876]\n",
      "[7, 34, 34, 34, 67, 213, 344, 456, 657, 7876]\n"
     ]
    }
   ],
   "source": [
    "#append() and sort()\n",
    "data = []\n",
    "n = int(input(\"Enter name =\"))\n",
    "for i in range(n):\n",
    "    name = int(input(\"Enter name = \"))\n",
    "    data.append(name)\n",
    "print(data)\n",
    "data.sort()\n",
    "print(data)"
   ]
  },
  {
   "cell_type": "code",
   "execution_count": 42,
   "metadata": {},
   "outputs": [
    {
     "data": {
      "text/plain": [
       "10"
      ]
     },
     "execution_count": 42,
     "metadata": {},
     "output_type": "execute_result"
    }
   ],
   "source": [
    "len(data)"
   ]
  },
  {
   "cell_type": "code",
   "execution_count": 43,
   "metadata": {},
   "outputs": [
    {
     "name": "stdout",
     "output_type": "stream",
     "text": [
      "Min Value =  7\n",
      "Max Value =  7876\n"
     ]
    }
   ],
   "source": [
    "print(\"Min Value = \",data[0])\n",
    "print(\"Max Value = \",data[-1])"
   ]
  },
  {
   "cell_type": "code",
   "execution_count": 44,
   "metadata": {},
   "outputs": [
    {
     "name": "stdout",
     "output_type": "stream",
     "text": [
      "The min value =  7\n",
      "The max value =  7876\n"
     ]
    }
   ],
   "source": [
    "data = [213, 34, 456, 34, 657, 344, 7, 34, 67, 7876]\n",
    "print(\"The min value = \",min(data))\n",
    "print(\"The max value = \",max(data))"
   ]
  },
  {
   "cell_type": "code",
   "execution_count": 46,
   "metadata": {},
   "outputs": [
    {
     "name": "stdout",
     "output_type": "stream",
     "text": [
      "Enter name =5\n",
      "Enter name = 21\n",
      "Enter name = 423\n",
      "Enter name = 54\n",
      "Enter name = 213\n",
      "Enter name = 34\n",
      "[21, 423, 54, 213, 34]\n",
      "The min value =  21\n",
      "The max value =  423\n",
      "The sum = 745\n",
      "Enter average =  149.0\n"
     ]
    }
   ],
   "source": [
    "data = []\n",
    "n = int(input(\"Enter name =\"))\n",
    "for i in range(n):\n",
    "    name = int(input(\"Enter name = \"))\n",
    "    data.append(name)\n",
    "print(data)\n",
    "print(\"The min value = \",min(data))\n",
    "print(\"The max value = \",max(data))\n",
    "print(\"The sum =\",sum(data))\n",
    "print(\"Enter average = \",sum(data)/n)"
   ]
  },
  {
   "cell_type": "code",
   "execution_count": 3,
   "metadata": {},
   "outputs": [
    {
     "name": "stdout",
     "output_type": "stream",
     "text": [
      "Enter n = 3\n",
      "ENter name = Shyam\n",
      "ENter age = 67\n",
      "Enter address = Ktm\n",
      "ENter name = hari\n",
      "ENter age = 67\n",
      "Enter address = Bara\n",
      "ENter name = Sita\n",
      "ENter age = 46\n",
      "Enter address = Patan\n",
      "['0 Shyam 67 Ktm', '1 hari 67 Bara', '2 Sita 46 Patan']\n"
     ]
    }
   ],
   "source": [
    "data = []\n",
    "n = int(input(\"Enter n = \"))\n",
    "for i in range(n):\n",
    "    name = input(\"ENter name = \")\n",
    "    age = input(\"ENter age = \")\n",
    "    add = input(\"Enter address = \")\n",
    "    info = f\"{i} {name} {age} {add}\"\n",
    "    data.append(info)\n",
    "    \n",
    "print(data)"
   ]
  },
  {
   "cell_type": "code",
   "execution_count": 5,
   "metadata": {},
   "outputs": [
    {
     "name": "stdout",
     "output_type": "stream",
     "text": [
      "Enter roll=0\n"
     ]
    },
    {
     "data": {
      "text/plain": [
       "'0 Shyam 67 Ktm'"
      ]
     },
     "execution_count": 5,
     "metadata": {},
     "output_type": "execute_result"
    }
   ],
   "source": [
    "# Reading\n",
    "roll = int(input(\"Enter roll=\"))\n",
    "data[roll]"
   ]
  },
  {
   "cell_type": "code",
   "execution_count": 8,
   "metadata": {},
   "outputs": [
    {
     "name": "stdout",
     "output_type": "stream",
     "text": [
      "Enter roll=1\n",
      "Enter address = Bara\n",
      "Enter name = Hari\n",
      "Enter age = 76\n"
     ]
    },
    {
     "data": {
      "text/plain": [
       "['0 Shyam 67 Kathmandu', '1 Hari 76 Bara', '2 Sita 46 Patan']"
      ]
     },
     "execution_count": 8,
     "metadata": {},
     "output_type": "execute_result"
    }
   ],
   "source": [
    "# Update\n",
    "roll = int(input(\"Enter roll=\"))\n",
    "add = input(\"Enter address = \")\n",
    "name = input(\"Enter name = \")\n",
    "age = input(\"Enter age = \")\n",
    "data[roll]=f'{roll} {name} {age} {add}'\n",
    "data"
   ]
  },
  {
   "cell_type": "code",
   "execution_count": 11,
   "metadata": {},
   "outputs": [
    {
     "name": "stdout",
     "output_type": "stream",
     "text": [
      "Enter search = ram\n",
      "Yes 1\n"
     ]
    }
   ],
   "source": [
    "a = ['ram', 'Zebra', '.Apple', 'Xray', '1apple']\n",
    "search = input(\"Enter search = \")\n",
    "if search in a:\n",
    "    print(\"Yes\",a.count('ram'))\n",
    "    \n",
    "else:\n",
    "    print(\"No\")"
   ]
  },
  {
   "cell_type": "code",
   "execution_count": 17,
   "metadata": {},
   "outputs": [
    {
     "name": "stdout",
     "output_type": "stream",
     "text": [
      "Enter search = ram\n",
      "Yes 2\n",
      "['ram', 'Zebra', '.Apple', 'Xray', '1apple', 'ram']\n",
      "['Zebra', '.Apple', 'Xray', '1apple', 'ram']\n",
      "['Zebra', '.Apple', 'Xray', '1apple']\n"
     ]
    }
   ],
   "source": [
    "a = ['ram', 'Zebra', '.Apple', 'Xray', '1apple','ram']\n",
    "search = input(\"Enter search = \")\n",
    "n = a.count(search)\n",
    "print(\"Yes\",a.count(search))\n",
    "\n",
    "for i in range(n):\n",
    "    if search in a:\n",
    "        \n",
    "        a.remove(search)\n",
    "        \n",
    "print(a)"
   ]
  },
  {
   "cell_type": "code",
   "execution_count": 19,
   "metadata": {},
   "outputs": [
    {
     "name": "stdout",
     "output_type": "stream",
     "text": [
      "Enter search = ram\n",
      "Yes 3\n",
      "['Zebra', '.Apple', 'Xray', '1apple', 'ram']\n"
     ]
    }
   ],
   "source": [
    "a = ['ram', 'Zebra', '.Apple', 'Xray', '1apple','ram','ram']\n",
    "search = input(\"Enter search = \")\n",
    "n = a.count(search)\n",
    "print(\"Yes\",a.count(search))\n",
    "\n",
    "for i in range(n-1):\n",
    "    if search in a:\n",
    "        \n",
    "        a.remove(search)\n",
    "        \n",
    "print(a)"
   ]
  },
  {
   "cell_type": "code",
   "execution_count": 23,
   "metadata": {},
   "outputs": [
    {
     "name": "stdout",
     "output_type": "stream",
     "text": [
      "Enter search = ram\n",
      "Enter save index =0\n",
      "Yes 3\n",
      "['Zebra', '.Apple', 'Xray', '1apple', 'ram', 'ram']\n"
     ]
    }
   ],
   "source": [
    "a = ['ram', 'Zebra', '.Apple', 'Xray', '1apple','ram','ram']\n",
    "search = input(\"Enter search = \")\n",
    "save = int(input(\"Enter save index =\"))\n",
    "n = a.count(search)\n",
    "print(\"Yes\",a.count(search))\n",
    "\n",
    "for i in range(n-1):\n",
    "    if search in a:\n",
    "        if search == a[save]:\n",
    "            a.remove(search)\n",
    "            continue\n",
    "print(a)"
   ]
  },
  {
   "cell_type": "code",
   "execution_count": 3,
   "metadata": {},
   "outputs": [
    {
     "name": "stdout",
     "output_type": "stream",
     "text": [
      "Enter search = ram\n",
      "Enter save index =6\n",
      "Yes 3\n"
     ]
    },
    {
     "ename": "IndexError",
     "evalue": "list assignment index out of range",
     "output_type": "error",
     "traceback": [
      "\u001b[1;31m---------------------------------------------------------------------------\u001b[0m",
      "\u001b[1;31mIndexError\u001b[0m                                Traceback (most recent call last)",
      "\u001b[1;32m<ipython-input-3-a00bf593ae8e>\u001b[0m in \u001b[0;36m<module>\u001b[1;34m\u001b[0m\n\u001b[0;32m      8\u001b[0m         \u001b[1;32mcontinue\u001b[0m\u001b[1;33m\u001b[0m\u001b[1;33m\u001b[0m\u001b[0m\n\u001b[0;32m      9\u001b[0m     \u001b[1;32melse\u001b[0m\u001b[1;33m:\u001b[0m\u001b[1;33m\u001b[0m\u001b[1;33m\u001b[0m\u001b[0m\n\u001b[1;32m---> 10\u001b[1;33m         \u001b[1;32mdel\u001b[0m \u001b[0ma\u001b[0m\u001b[1;33m[\u001b[0m\u001b[0mi\u001b[0m\u001b[1;33m-\u001b[0m\u001b[1;36m1\u001b[0m\u001b[1;33m]\u001b[0m\u001b[1;33m\u001b[0m\u001b[1;33m\u001b[0m\u001b[0m\n\u001b[0m\u001b[0;32m     11\u001b[0m \u001b[1;33m\u001b[0m\u001b[0m\n\u001b[0;32m     12\u001b[0m \u001b[0mprint\u001b[0m\u001b[1;33m(\u001b[0m\u001b[0ma\u001b[0m\u001b[1;33m)\u001b[0m\u001b[1;33m\u001b[0m\u001b[1;33m\u001b[0m\u001b[0m\n",
      "\u001b[1;31mIndexError\u001b[0m: list assignment index out of range"
     ]
    }
   ],
   "source": [
    "a = ['ram', 'Zebra', '.Apple', 'Xray', '1apple','ram','ram']\n",
    "search = input(\"Enter search = \")\n",
    "save = int(input(\"Enter save index =\"))\n",
    "n = len(a)\n",
    "print(\"Yes\",a.count(search))\n",
    "for i in range(n-1):\n",
    "    if i ==save:\n",
    "        continue\n",
    "    else:\n",
    "        print(i)\n",
    "        a.remove(a[i])\n",
    "    \n",
    "print(a)"
   ]
  },
  {
   "cell_type": "code",
   "execution_count": 5,
   "metadata": {},
   "outputs": [
    {
     "name": "stdout",
     "output_type": "stream",
     "text": [
      "ram\n",
      "Zebra\n",
      ".Apple\n",
      "Xray\n",
      "1apple\n",
      "ram\n",
      "ram\n"
     ]
    }
   ],
   "source": [
    "a = ['ram', 'Zebra', '.Apple', 'Xray', '1apple','ram','ram']\n",
    "for i in a:\n",
    "    print(i)"
   ]
  },
  {
   "cell_type": "code",
   "execution_count": 6,
   "metadata": {},
   "outputs": [
    {
     "name": "stdout",
     "output_type": "stream",
     "text": [
      "Enter search = ram\n",
      "Enter save index =0\n",
      "Yes 3\n",
      "0\n",
      "1\n",
      "2\n",
      "3\n",
      "4\n",
      "0\n",
      "0\n",
      "['ram', 'Zebra', '.Apple', 'Xray', '1apple', 'ram', 'ram']\n"
     ]
    }
   ],
   "source": [
    "a = ['ram', 'Zebra', '.Apple', 'Xray', '1apple','ram','ram']\n",
    "search = input(\"Enter search = \")\n",
    "save = int(input(\"Enter save index =\"))\n",
    "n = len(a)\n",
    "print(\"Yes\",a.count(search))\n",
    "for i in a:\n",
    "#     if i ==save:\n",
    "#         continue\n",
    "#     else:\n",
    "#         print(i)\n",
    "#         a.remove(a[i])\n",
    "    print(a.index(i))\n",
    "    \n",
    "print(a)"
   ]
  },
  {
   "cell_type": "code",
   "execution_count": 8,
   "metadata": {},
   "outputs": [
    {
     "data": {
      "text/plain": [
       "['.Apple', '1apple', 'Xray', 'Zebra', 'ram', 'ram', 'ram', 'ram']"
      ]
     },
     "execution_count": 8,
     "metadata": {},
     "output_type": "execute_result"
    }
   ],
   "source": [
    "a = ['ram','ram', 'Zebra', '.Apple', 'Xray', '1apple','ram','ram']\n",
    "a.sort()\n",
    "a\n"
   ]
  },
  {
   "cell_type": "code",
   "execution_count": 9,
   "metadata": {},
   "outputs": [
    {
     "data": {
      "text/plain": [
       "['.Apple', '1apple', 'Xray', 'Zebra', 'ram']"
      ]
     },
     "execution_count": 9,
     "metadata": {},
     "output_type": "execute_result"
    }
   ],
   "source": [
    "del a[5:]\n",
    "a"
   ]
  },
  {
   "cell_type": "code",
   "execution_count": 10,
   "metadata": {},
   "outputs": [
    {
     "data": {
      "text/plain": [
       "4"
      ]
     },
     "execution_count": 10,
     "metadata": {},
     "output_type": "execute_result"
    }
   ],
   "source": [
    "# list inside list\n",
    "a = [[],[],[],[]]\n",
    "len(a)"
   ]
  },
  {
   "cell_type": "code",
   "execution_count": 11,
   "metadata": {},
   "outputs": [
    {
     "data": {
      "text/plain": [
       "3"
      ]
     },
     "execution_count": 11,
     "metadata": {},
     "output_type": "execute_result"
    }
   ],
   "source": [
    "a = [[1,2,3],\n",
    "     [4,5,6],\n",
    "     [7,8,9]]\n",
    "len(a)"
   ]
  },
  {
   "cell_type": "code",
   "execution_count": 18,
   "metadata": {},
   "outputs": [
    {
     "data": {
      "text/plain": [
       "9"
      ]
     },
     "execution_count": 18,
     "metadata": {},
     "output_type": "execute_result"
    }
   ],
   "source": [
    "a[2][2]"
   ]
  },
  {
   "cell_type": "code",
   "execution_count": 20,
   "metadata": {},
   "outputs": [
    {
     "data": {
      "text/plain": [
       "[[1, 2, 3], [4, 5, 6], 7, 8, 9]"
      ]
     },
     "execution_count": 20,
     "metadata": {},
     "output_type": "execute_result"
    }
   ],
   "source": [
    "a=[[1,2,3],[4,5,6]]\n",
    "b = [7,8,9]\n",
    "a+b"
   ]
  },
  {
   "cell_type": "code",
   "execution_count": 21,
   "metadata": {},
   "outputs": [
    {
     "name": "stdout",
     "output_type": "stream",
     "text": [
      "Enter n = 2\n",
      "ENter name = ram\n",
      "ENter age = 56\n",
      "Enter address = Patan\n",
      "ENter name = Shyam\n",
      "ENter age = 89\n",
      "Enter address = Bara\n",
      "[[0, 'ram', '56', 'Patan'], [1, 'Shyam', '89', 'Bara']]\n"
     ]
    }
   ],
   "source": [
    "data = []\n",
    "n = int(input(\"Enter n = \"))\n",
    "for i in range(n):\n",
    "    name = input(\"ENter name = \")\n",
    "    age = input(\"ENter age = \")\n",
    "    add = input(\"Enter address = \")\n",
    "    info = [i, name,age,add]\n",
    "    data.append(info)\n",
    "    \n",
    "print(data)"
   ]
  },
  {
   "cell_type": "code",
   "execution_count": 25,
   "metadata": {},
   "outputs": [
    {
     "data": {
      "text/plain": [
       "'ram'"
      ]
     },
     "execution_count": 25,
     "metadata": {},
     "output_type": "execute_result"
    }
   ],
   "source": [
    "data[0][1]"
   ]
  },
  {
   "cell_type": "code",
   "execution_count": null,
   "metadata": {},
   "outputs": [],
   "source": [
    "del a[0]"
   ]
  },
  {
   "cell_type": "code",
   "execution_count": 26,
   "metadata": {},
   "outputs": [
    {
     "data": {
      "text/plain": [
       "[[0, 'Ram', '56', 'Patan'], [1, 'Shyam', '89', 'Bara']]"
      ]
     },
     "execution_count": 26,
     "metadata": {},
     "output_type": "execute_result"
    }
   ],
   "source": [
    "data[0][1]='Ram'\n",
    "data"
   ]
  },
  {
   "cell_type": "code",
   "execution_count": 30,
   "metadata": {},
   "outputs": [
    {
     "data": {
      "text/plain": [
       "['0', 'Shyam Hari', '67', 'Kathmandu']"
      ]
     },
     "execution_count": 30,
     "metadata": {},
     "output_type": "execute_result"
    }
   ],
   "source": [
    "a = ['0 Shyam 67 Kathmandu', '1 Hari 76 Bara', '2 Sita 46 Patan']\n",
    "b = a[0]\n",
    "b.split('.')"
   ]
  },
  {
   "cell_type": "code",
   "execution_count": 31,
   "metadata": {},
   "outputs": [
    {
     "name": "stdout",
     "output_type": "stream",
     "text": [
      "[['0', 'Shyam', '67', 'Kathmandu'], ['1', 'Hari', '76', 'Bara'], ['2', 'Sita', '46', 'Patan']]\n"
     ]
    }
   ],
   "source": [
    "new_data = []\n",
    "a = ['0 Shyam 67 Kathmandu', '1 Hari 76 Bara', '2 Sita 46 Patan']\n",
    "for i in range(len(a)):\n",
    "    b = a[i].split()\n",
    "    new_data.append(b)\n",
    "print(new_data)"
   ]
  },
  {
   "cell_type": "code",
   "execution_count": 32,
   "metadata": {},
   "outputs": [
    {
     "name": "stdout",
     "output_type": "stream",
     "text": [
      "Enter n = 2\n",
      "ENter name = ram\n",
      "ENter marks of Physics = 89\n",
      "Enter marks of chemistry  = 78\n",
      "Enter marks of math = 67\n",
      "ENter name = Sita\n",
      "ENter marks of Physics = 90\n",
      "Enter marks of chemistry  = 78\n",
      "Enter marks of math = 67\n",
      "[[0, 'ram', 89, 78, 67, 234, 78.0, 'Pass'], [1, 'Sita', 90, 78, 67, 235, 78.33333333333333, 'Pass']]\n"
     ]
    }
   ],
   "source": [
    "data = []\n",
    "n = int(input(\"Enter n = \"))\n",
    "for i in range(n):\n",
    "    name = input(\"ENter name = \")\n",
    "    physics = int(input(\"ENter marks of Physics = \"))\n",
    "    chemistry= int(input(\"Enter marks of chemistry  = \"))\n",
    "    math = int(input(\"Enter marks of math = \"))\n",
    "    total = sum([physics,chemistry,math])\n",
    "    per = total/3\n",
    "    if per > 50:\n",
    "        x = \"Pass\"\n",
    "    else:\n",
    "        x = \"Fail\"\n",
    "    info = [i, name,physics,chemistry,math,total,per,x]\n",
    "    data.append(info)\n",
    "    \n",
    "print(data)"
   ]
  },
  {
   "cell_type": "code",
   "execution_count": 33,
   "metadata": {},
   "outputs": [
    {
     "name": "stdout",
     "output_type": "stream",
     "text": [
      "[0, 'ram', 89, 78, 67, 234, 78.0, 'Pass']\n",
      "[1, 'Sita', 90, 78, 67, 235, 78.33333333333333, 'Pass']\n"
     ]
    }
   ],
   "source": [
    "for i in data:\n",
    "    print(i)"
   ]
  },
  {
   "cell_type": "code",
   "execution_count": 34,
   "metadata": {},
   "outputs": [
    {
     "name": "stdout",
     "output_type": "stream",
     "text": [
      "Enter name = ram\n",
      "Yes\n"
     ]
    }
   ],
   "source": [
    "name = input(\"Enter name = \")\n",
    "for i in range(2):\n",
    "    \n",
    "    if name in data[i][1]:\n",
    "        print(\"Yes\")"
   ]
  },
  {
   "cell_type": "code",
   "execution_count": 36,
   "metadata": {},
   "outputs": [
    {
     "name": "stdout",
     "output_type": "stream",
     "text": [
      "Enter name = Sita\n",
      "2\n"
     ]
    }
   ],
   "source": [
    "data = [[0, 'Sita', 89, 78, 67, 234, 78.0, 'Pass'], [1, 'Sita', 90, 78, 67, 235, 78.33333333333333, 'Pass']]\n",
    "\n",
    "s=0\n",
    "name = input(\"Enter name = \")\n",
    "for i in range(2):\n",
    "    a = data[i].count(name)\n",
    "    s =s+a\n",
    "    \n",
    "print(s)"
   ]
  },
  {
   "cell_type": "code",
   "execution_count": 41,
   "metadata": {},
   "outputs": [
    {
     "name": "stdout",
     "output_type": "stream",
     "text": [
      "Enter name = Sita\n",
      "[1, 'Sita', 90, 78, 67, 235, 78.33333333333333, 'Pass']\n"
     ]
    }
   ],
   "source": [
    "data = [[0, 'Ram', 89, 78, 67, 234, 78.0, 'Pass'], [1, 'Sita', 90, 78, 67, 235, 78.33333333333333, 'Pass']]\n",
    "\n",
    "name = input(\"Enter name = \")\n",
    "for i in range(2):\n",
    "    \n",
    "    if name in data[i][1]:\n",
    "        print(data[i])"
   ]
  },
  {
   "cell_type": "code",
   "execution_count": null,
   "metadata": {},
   "outputs": [],
   "source": []
  }
 ],
 "metadata": {
  "kernelspec": {
   "display_name": "Python 3",
   "language": "python",
   "name": "python3"
  },
  "language_info": {
   "codemirror_mode": {
    "name": "ipython",
    "version": 3
   },
   "file_extension": ".py",
   "mimetype": "text/x-python",
   "name": "python",
   "nbconvert_exporter": "python",
   "pygments_lexer": "ipython3",
   "version": "3.7.1"
  }
 },
 "nbformat": 4,
 "nbformat_minor": 2
}
