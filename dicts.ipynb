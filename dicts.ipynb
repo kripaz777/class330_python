{
 "cells": [
  {
   "cell_type": "code",
   "execution_count": 1,
   "metadata": {},
   "outputs": [
    {
     "data": {
      "text/plain": [
       "dict"
      ]
     },
     "execution_count": 1,
     "metadata": {},
     "output_type": "execute_result"
    }
   ],
   "source": [
    "a = {}\n",
    "type(a)"
   ]
  },
  {
   "cell_type": "code",
   "execution_count": 2,
   "metadata": {},
   "outputs": [
    {
     "name": "stdout",
     "output_type": "stream",
     "text": [
      "{'a': 'Apple', 'b': 'Ball'}\n"
     ]
    }
   ],
   "source": [
    "a = {'a':\"Apple\",'b':\"Ball\"}\n",
    "print(a)"
   ]
  },
  {
   "cell_type": "code",
   "execution_count": 3,
   "metadata": {},
   "outputs": [
    {
     "name": "stdout",
     "output_type": "stream",
     "text": [
      "Ball\n"
     ]
    }
   ],
   "source": [
    "a = {'a':\"Apple\",'b':\"Ball\"}\n",
    "print(a['b'])"
   ]
  },
  {
   "cell_type": "code",
   "execution_count": 4,
   "metadata": {},
   "outputs": [
    {
     "name": "stdout",
     "output_type": "stream",
     "text": [
      "{'a': 'Ant', 'b': 'Ball'}\n"
     ]
    }
   ],
   "source": [
    "a = {'a':\"Apple\",'b':\"Ball\",'a':\"Ant\"}\n",
    "print(a)"
   ]
  },
  {
   "cell_type": "code",
   "execution_count": 5,
   "metadata": {},
   "outputs": [
    {
     "name": "stdout",
     "output_type": "stream",
     "text": [
      "{'a': 'Apple', 'b': 'Ball', 'A': 'Ant'}\n"
     ]
    }
   ],
   "source": [
    "a = {'a':\"Apple\",'b':\"Ball\",'A':\"Ant\"}\n",
    "print(a)"
   ]
  },
  {
   "cell_type": "code",
   "execution_count": 6,
   "metadata": {},
   "outputs": [
    {
     "name": "stdout",
     "output_type": "stream",
     "text": [
      "{0: 'Apple', 1: 'Ball', 2: 'Ant'}\n"
     ]
    }
   ],
   "source": [
    "a = {0:\"Apple\",1:\"Ball\",2:\"Ant\"}\n",
    "print(a)"
   ]
  },
  {
   "cell_type": "code",
   "execution_count": 7,
   "metadata": {},
   "outputs": [
    {
     "ename": "TypeError",
     "evalue": "unsupported operand type(s) for +: 'dict' and 'dict'",
     "output_type": "error",
     "traceback": [
      "\u001b[1;31m---------------------------------------------------------------------------\u001b[0m",
      "\u001b[1;31mTypeError\u001b[0m                                 Traceback (most recent call last)",
      "\u001b[1;32m<ipython-input-7-66d4f4041a89>\u001b[0m in \u001b[0;36m<module>\u001b[1;34m\u001b[0m\n\u001b[0;32m      1\u001b[0m \u001b[0ma\u001b[0m \u001b[1;33m=\u001b[0m \u001b[1;33m{\u001b[0m\u001b[1;36m0\u001b[0m\u001b[1;33m:\u001b[0m\u001b[1;34m\"Apple\"\u001b[0m\u001b[1;33m,\u001b[0m\u001b[1;36m1\u001b[0m\u001b[1;33m:\u001b[0m\u001b[1;34m\"Ball\"\u001b[0m\u001b[1;33m,\u001b[0m\u001b[1;36m2\u001b[0m\u001b[1;33m:\u001b[0m\u001b[1;34m\"Ant\"\u001b[0m\u001b[1;33m}\u001b[0m\u001b[1;33m\u001b[0m\u001b[1;33m\u001b[0m\u001b[0m\n\u001b[0;32m      2\u001b[0m \u001b[0mb\u001b[0m \u001b[1;33m=\u001b[0m \u001b[1;33m{\u001b[0m\u001b[1;36m0\u001b[0m\u001b[1;33m:\u001b[0m\u001b[1;34m\"Cat\"\u001b[0m\u001b[1;33m}\u001b[0m\u001b[1;33m\u001b[0m\u001b[1;33m\u001b[0m\u001b[0m\n\u001b[1;32m----> 3\u001b[1;33m \u001b[0ma\u001b[0m\u001b[1;33m+\u001b[0m\u001b[0mb\u001b[0m\u001b[1;33m\u001b[0m\u001b[1;33m\u001b[0m\u001b[0m\n\u001b[0m",
      "\u001b[1;31mTypeError\u001b[0m: unsupported operand type(s) for +: 'dict' and 'dict'"
     ]
    }
   ],
   "source": [
    "a = {0:\"Apple\",1:\"Ball\",2:\"Ant\"}\n",
    "b = {0:\"Cat\"}\n",
    "a+b"
   ]
  },
  {
   "cell_type": "code",
   "execution_count": 8,
   "metadata": {},
   "outputs": [
    {
     "data": {
      "text/plain": [
       "{0: 'Apple', 1: 'Ball', 2: 'Ant', 3: 'Fish'}"
      ]
     },
     "execution_count": 8,
     "metadata": {},
     "output_type": "execute_result"
    }
   ],
   "source": [
    "a = {0:\"Apple\",1:\"Ball\",2:\"Ant\"}\n",
    "a[3] = \"Fish\"\n",
    "a"
   ]
  },
  {
   "cell_type": "code",
   "execution_count": 9,
   "metadata": {},
   "outputs": [
    {
     "data": {
      "text/plain": [
       "{0: 'Apple', 1: 'Ball', 2: 'Fish'}"
      ]
     },
     "execution_count": 9,
     "metadata": {},
     "output_type": "execute_result"
    }
   ],
   "source": [
    "a = {0:\"Apple\",1:\"Ball\",2:\"Ant\"}\n",
    "a[2] = \"Fish\"\n",
    "a"
   ]
  },
  {
   "cell_type": "code",
   "execution_count": 10,
   "metadata": {},
   "outputs": [
    {
     "name": "stdout",
     "output_type": "stream",
     "text": [
      "Enter no of people = 2\n",
      "Enter name = Ram\n",
      "Enter phone = 985644354\n",
      "Enter name = Shyam\n",
      "Enter phone = 9856445654\n",
      "{'Ram': '985644354', 'Shyam': '9856445654'}\n"
     ]
    }
   ],
   "source": [
    "# info = {'Ram':9867665676,'Shyam':9856553423,'Hari':9876445654}\n",
    "info = {} \n",
    "n = int(input(\"Enter no of people = \"))\n",
    "for i in range(n):\n",
    "    name = input(\"Enter name = \")\n",
    "    phone = input(\"Enter phone = \")\n",
    "    info[name] = phone\n",
    "print(info)"
   ]
  },
  {
   "cell_type": "code",
   "execution_count": 11,
   "metadata": {},
   "outputs": [
    {
     "name": "stdout",
     "output_type": "stream",
     "text": [
      "Enter name = Ram\n"
     ]
    },
    {
     "data": {
      "text/plain": [
       "'985644354'"
      ]
     },
     "execution_count": 11,
     "metadata": {},
     "output_type": "execute_result"
    }
   ],
   "source": [
    "name = input(\"Enter name = \")\n",
    "info[name]"
   ]
  },
  {
   "cell_type": "code",
   "execution_count": 12,
   "metadata": {},
   "outputs": [
    {
     "name": "stdout",
     "output_type": "stream",
     "text": [
      "Ram\n",
      "Shyam\n"
     ]
    }
   ],
   "source": [
    "for i in info:\n",
    "    print(i)"
   ]
  },
  {
   "cell_type": "code",
   "execution_count": 14,
   "metadata": {},
   "outputs": [
    {
     "name": "stdout",
     "output_type": "stream",
     "text": [
      "985644354\n",
      "9856445654\n"
     ]
    }
   ],
   "source": [
    "for i in info.values():\n",
    "    print(i)"
   ]
  },
  {
   "cell_type": "code",
   "execution_count": 15,
   "metadata": {},
   "outputs": [
    {
     "name": "stdout",
     "output_type": "stream",
     "text": [
      "('Ram', '985644354')\n",
      "('Shyam', '9856445654')\n"
     ]
    }
   ],
   "source": [
    "for i in info.items():\n",
    "    print(i)"
   ]
  },
  {
   "cell_type": "code",
   "execution_count": 17,
   "metadata": {},
   "outputs": [
    {
     "name": "stdout",
     "output_type": "stream",
     "text": [
      "{'Ram': '985644354', 'Shyam': '9856445654'}\n"
     ]
    }
   ],
   "source": [
    "info = {}\n",
    "a = (('Ram', '985644354'),('Shyam', '9856445654'))\n",
    "for i in range(len(a)):\n",
    "    key = a[i][0]\n",
    "    value =  a[i][1]\n",
    "    info[key] = value\n",
    "    \n",
    "print(info)\n",
    "    "
   ]
  },
  {
   "cell_type": "code",
   "execution_count": 18,
   "metadata": {},
   "outputs": [
    {
     "ename": "TypeError",
     "evalue": "unhashable type: 'list'",
     "output_type": "error",
     "traceback": [
      "\u001b[1;31m---------------------------------------------------------------------------\u001b[0m",
      "\u001b[1;31mTypeError\u001b[0m                                 Traceback (most recent call last)",
      "\u001b[1;32m<ipython-input-18-d21bc308692e>\u001b[0m in \u001b[0;36m<module>\u001b[1;34m\u001b[0m\n\u001b[0;32m      1\u001b[0m \u001b[0ma\u001b[0m \u001b[1;33m=\u001b[0m \u001b[1;33m{\u001b[0m\u001b[1;34m'Ram'\u001b[0m\u001b[1;33m:\u001b[0m \u001b[1;34m'985644354'\u001b[0m\u001b[1;33m,\u001b[0m \u001b[1;34m'Shyam'\u001b[0m\u001b[1;33m:\u001b[0m \u001b[1;34m'9856445654'\u001b[0m\u001b[1;33m}\u001b[0m\u001b[1;33m\u001b[0m\u001b[1;33m\u001b[0m\u001b[0m\n\u001b[1;32m----> 2\u001b[1;33m \u001b[0mb\u001b[0m \u001b[1;33m=\u001b[0m \u001b[1;33m{\u001b[0m\u001b[1;33m[\u001b[0m\u001b[1;34m'Ram'\u001b[0m\u001b[1;33m,\u001b[0m\u001b[1;34m'Hari'\u001b[0m\u001b[1;33m]\u001b[0m\u001b[1;33m:\u001b[0m \u001b[1;34m'985644354'\u001b[0m\u001b[1;33m,\u001b[0m \u001b[1;34m'Shyam'\u001b[0m\u001b[1;33m:\u001b[0m \u001b[1;34m'9856445654'\u001b[0m\u001b[1;33m}\u001b[0m\u001b[1;33m\u001b[0m\u001b[1;33m\u001b[0m\u001b[0m\n\u001b[0m\u001b[0;32m      3\u001b[0m \u001b[0mb\u001b[0m\u001b[1;33m\u001b[0m\u001b[1;33m\u001b[0m\u001b[0m\n",
      "\u001b[1;31mTypeError\u001b[0m: unhashable type: 'list'"
     ]
    }
   ],
   "source": [
    "a = {'Ram': '985644354', 'Shyam': '9856445654'}\n",
    "b = {['Ram','Hari']: '985644354', 'Shyam': '9856445654'}\n",
    "b"
   ]
  },
  {
   "cell_type": "code",
   "execution_count": 19,
   "metadata": {},
   "outputs": [
    {
     "data": {
      "text/plain": [
       "{('Ram', 'Hari'): '985644354', 'Shyam': '9856445654'}"
      ]
     },
     "execution_count": 19,
     "metadata": {},
     "output_type": "execute_result"
    }
   ],
   "source": [
    "b = {('Ram','Hari'): '985644354', 'Shyam': '9856445654'}\n",
    "b"
   ]
  },
  {
   "cell_type": "code",
   "execution_count": 20,
   "metadata": {},
   "outputs": [
    {
     "data": {
      "text/plain": [
       "{('Ram', 'Hari'): '985644354'}"
      ]
     },
     "execution_count": 20,
     "metadata": {},
     "output_type": "execute_result"
    }
   ],
   "source": [
    "b = {('Ram','Hari'): '985644354', 'Shyam': '9856445654'}\n",
    "del b['Shyam']\n",
    "b"
   ]
  },
  {
   "cell_type": "code",
   "execution_count": 21,
   "metadata": {},
   "outputs": [
    {
     "data": {
      "text/plain": [
       "{('Ram', 'Hari'): '985644354'}"
      ]
     },
     "execution_count": 21,
     "metadata": {},
     "output_type": "execute_result"
    }
   ],
   "source": [
    "b = {('Ram','Hari'): '985644354', 'Shyam': '9856445654'}\n",
    "b.pop('Shyam')\n",
    "b"
   ]
  },
  {
   "cell_type": "code",
   "execution_count": 23,
   "metadata": {},
   "outputs": [
    {
     "ename": "TypeError",
     "evalue": "unhashable type: 'slice'",
     "output_type": "error",
     "traceback": [
      "\u001b[1;31m---------------------------------------------------------------------------\u001b[0m",
      "\u001b[1;31mTypeError\u001b[0m                                 Traceback (most recent call last)",
      "\u001b[1;32m<ipython-input-23-fc98e6d9ffcd>\u001b[0m in \u001b[0;36m<module>\u001b[1;34m\u001b[0m\n\u001b[0;32m      1\u001b[0m \u001b[0mb\u001b[0m \u001b[1;33m=\u001b[0m \u001b[1;33m{\u001b[0m\u001b[1;34m'Ram'\u001b[0m\u001b[1;33m:\u001b[0m \u001b[1;34m'985644354'\u001b[0m\u001b[1;33m,\u001b[0m \u001b[1;34m'Shyam'\u001b[0m\u001b[1;33m:\u001b[0m \u001b[1;34m'9856445654'\u001b[0m\u001b[1;33m}\u001b[0m\u001b[1;33m\u001b[0m\u001b[1;33m\u001b[0m\u001b[0m\n\u001b[1;32m----> 2\u001b[1;33m \u001b[1;32mdel\u001b[0m \u001b[0mb\u001b[0m\u001b[1;33m[\u001b[0m\u001b[1;34m'Ram'\u001b[0m\u001b[1;33m:\u001b[0m\u001b[1;34m'Shyam'\u001b[0m\u001b[1;33m]\u001b[0m\u001b[1;33m\u001b[0m\u001b[1;33m\u001b[0m\u001b[0m\n\u001b[0m\u001b[0;32m      3\u001b[0m \u001b[0mb\u001b[0m\u001b[1;33m\u001b[0m\u001b[1;33m\u001b[0m\u001b[0m\n",
      "\u001b[1;31mTypeError\u001b[0m: unhashable type: 'slice'"
     ]
    }
   ],
   "source": [
    "b = {'Ram': '985644354', 'Shyam': '9856445654'}\n",
    "del b['Ram':'Shyam']\n",
    "b"
   ]
  },
  {
   "cell_type": "code",
   "execution_count": 24,
   "metadata": {},
   "outputs": [
    {
     "name": "stdout",
     "output_type": "stream",
     "text": [
      "Enter n = 2\n",
      "ENter name = Ram\n",
      "ENter age = 67\n",
      "Enter address = Kathmandu\n",
      "ENter name = Shyam\n",
      "ENter age = 67\n",
      "Enter address = Patan\n",
      "{0: 'Ram 67 Kathmandu', 1: 'Shyam 67 Patan'}\n"
     ]
    }
   ],
   "source": [
    "infos = {}\n",
    "data = \"\"\n",
    "\n",
    "n = int(input(\"Enter n = \"))\n",
    "for i in range(n):\n",
    "    name = input(\"ENter name = \")\n",
    "    age = input(\"ENter age = \")\n",
    "    add = input(\"Enter address = \")\n",
    "    info = f\"{name} {age} {add}\"\n",
    "    \n",
    "    key = i\n",
    "    value = info\n",
    "    \n",
    "    infos[key]=value\n",
    "    \n",
    "print(infos)"
   ]
  },
  {
   "cell_type": "code",
   "execution_count": 26,
   "metadata": {},
   "outputs": [
    {
     "data": {
      "text/plain": [
       "'Ram 67 Kathmandu'"
      ]
     },
     "execution_count": 26,
     "metadata": {},
     "output_type": "execute_result"
    }
   ],
   "source": [
    "x = infos[0]\n",
    "x"
   ]
  },
  {
   "cell_type": "code",
   "execution_count": 27,
   "metadata": {},
   "outputs": [
    {
     "data": {
      "text/plain": [
       "['Ram', '67', 'Kathmandu']"
      ]
     },
     "execution_count": 27,
     "metadata": {},
     "output_type": "execute_result"
    }
   ],
   "source": [
    "x.split()"
   ]
  },
  {
   "cell_type": "code",
   "execution_count": 29,
   "metadata": {},
   "outputs": [
    {
     "data": {
      "text/plain": [
       "{0: 'Ram 67 Bara', 1: 'Shyam 67 Patan'}"
      ]
     },
     "execution_count": 29,
     "metadata": {},
     "output_type": "execute_result"
    }
   ],
   "source": [
    "infos[0] = 'Ram 67 Bara'\n",
    "infos"
   ]
  },
  {
   "cell_type": "code",
   "execution_count": 30,
   "metadata": {},
   "outputs": [
    {
     "name": "stdout",
     "output_type": "stream",
     "text": [
      "Enter n = 2\n",
      "ENter name = Ram\n",
      "ENter age = 78\n",
      "Enter address = Kathmandu\n",
      "ENter name = Shyam\n",
      "ENter age = 78\n",
      "Enter address = Bara\n",
      "{0: ['Ram', '78', 'Kathmandu'], 1: ['Shyam', '78', 'Bara']}\n"
     ]
    }
   ],
   "source": [
    "# list inside dicts\n",
    "infos = {}\n",
    "data = \"\"\n",
    "\n",
    "n = int(input(\"Enter n = \"))\n",
    "for i in range(n):\n",
    "    name = input(\"ENter name = \")\n",
    "    age = input(\"ENter age = \")\n",
    "    add = input(\"Enter address = \")\n",
    "    info = [name,age,add]\n",
    "    \n",
    "    key = i\n",
    "    value = info\n",
    "    \n",
    "    infos[key]=value\n",
    "    \n",
    "print(infos)"
   ]
  },
  {
   "cell_type": "code",
   "execution_count": 31,
   "metadata": {},
   "outputs": [
    {
     "name": "stdout",
     "output_type": "stream",
     "text": [
      "Enter n = 2\n",
      "ENter name = Shyam\n",
      "ENter age = 78\n",
      "Enter address = Bara\n",
      "ENter name = Ram\n",
      "ENter age = 45\n",
      "Enter address = Patan\n",
      "{'Name': ['Shyam', 'Ram'], 'Age': ['78', '45'], 'Address': ['Bara', 'Patan']}\n"
     ]
    }
   ],
   "source": [
    "# list inside dicts\n",
    "# {'Name':[],'Age':[],'Add':[]}\n",
    "infos = {}\n",
    "\n",
    "name = []\n",
    "age = []\n",
    "add = []\n",
    "n = int(input(\"Enter n = \"))\n",
    "for i in range(n):\n",
    "    na = input(\"ENter name = \")\n",
    "    ag = input(\"ENter age = \")\n",
    "    ad = input(\"Enter address = \")\n",
    "    \n",
    "    name.append(na)\n",
    "    age.append(ag)\n",
    "    add.append(ad)\n",
    "    \n",
    "    \n",
    "infos['Name']=name\n",
    "infos['Age'] = age\n",
    "infos['Address']=add\n",
    "    \n",
    "print(infos)"
   ]
  },
  {
   "cell_type": "code",
   "execution_count": 32,
   "metadata": {},
   "outputs": [
    {
     "name": "stdout",
     "output_type": "stream",
     "text": [
      "Enter n = 2\n",
      "ENter name = Ram\n",
      "ENter age = 67\n",
      "Enter address = Patan\n",
      "ENter name = Shyam\n",
      "ENter age = 78\n",
      "Enter address = Bara\n",
      "{'Name': ('Ram', 'Shyam'), 'Age': ('67', '78'), 'Address': ('Patan', 'Bara')}\n"
     ]
    }
   ],
   "source": [
    "# list inside dicts\n",
    "# {'Name':[],'Age':[],'Add':[]}\n",
    "infos = {}\n",
    "\n",
    "name = tuple()\n",
    "age = tuple()\n",
    "add = tuple()\n",
    "n = int(input(\"Enter n = \"))\n",
    "for i in range(n):\n",
    "    na = input(\"ENter name = \")\n",
    "    ag = input(\"ENter age = \")\n",
    "    ad = input(\"Enter address = \")\n",
    "    \n",
    "    name = name+(na,)\n",
    "    age = age+(ag,)\n",
    "    add = add + (ad,)\n",
    "    \n",
    "infos['Name']=name\n",
    "infos['Age'] = age\n",
    "infos['Address']=add\n",
    "    \n",
    "print(infos)"
   ]
  },
  {
   "cell_type": "code",
   "execution_count": 1,
   "metadata": {},
   "outputs": [],
   "source": [
    "# dicts in dicts"
   ]
  },
  {
   "cell_type": "code",
   "execution_count": 2,
   "metadata": {},
   "outputs": [],
   "source": [
    "# a = {<key>:{},<key>:{}}"
   ]
  },
  {
   "cell_type": "code",
   "execution_count": 6,
   "metadata": {},
   "outputs": [
    {
     "data": {
      "text/plain": [
       "4456554"
      ]
     },
     "execution_count": 6,
     "metadata": {},
     "output_type": "execute_result"
    }
   ],
   "source": [
    "a = {'Ram':{'landline':4456554,'mobile':9865445434}}\n",
    "a['Ram']['landline']"
   ]
  },
  {
   "cell_type": "code",
   "execution_count": 7,
   "metadata": {},
   "outputs": [
    {
     "data": {
      "text/plain": [
       "{'Ram': {'landline': 4456554, 'mobile': 9865445434}}"
      ]
     },
     "execution_count": 7,
     "metadata": {},
     "output_type": "execute_result"
    }
   ],
   "source": [
    "a = {}\n",
    "a['Ram'] = {'landline':4456554,'mobile':9865445434}\n",
    "a"
   ]
  },
  {
   "cell_type": "code",
   "execution_count": 8,
   "metadata": {},
   "outputs": [
    {
     "data": {
      "text/plain": [
       "{'Ram': {'landline': 4434335, 'mobile': 9865445434}}"
      ]
     },
     "execution_count": 8,
     "metadata": {},
     "output_type": "execute_result"
    }
   ],
   "source": [
    "a = {}\n",
    "a['Ram'] = {}\n",
    "a['Ram']['landline'] = 4434335\n",
    "a['Ram']['mobile'] = 9865445434\n",
    "a"
   ]
  },
  {
   "cell_type": "code",
   "execution_count": 9,
   "metadata": {},
   "outputs": [
    {
     "name": "stdout",
     "output_type": "stream",
     "text": [
      "Enter n = 2\n",
      "ENter name = RAm\n",
      "ENter age = 78\n",
      "Enter address = Bara\n",
      "ENter name = Shyam\n",
      "ENter age = 56\n",
      "Enter address = Patan\n",
      "{0: {'Name': 'RAm', 'Age': '78', 'Address': 'Bara'}, 1: {'Name': 'Shyam', 'Age': '56', 'Address': 'Patan'}}\n"
     ]
    }
   ],
   "source": [
    "# list inside dicts\n",
    "infos = {}\n",
    "data = \"\"\n",
    "\n",
    "n = int(input(\"Enter n = \"))\n",
    "for i in range(n):\n",
    "    name = input(\"ENter name = \")\n",
    "    age = input(\"ENter age = \")\n",
    "    add = input(\"Enter address = \")\n",
    "    info = {'Name':name,'Age':age,'Address':add}\n",
    "    \n",
    "    key = i\n",
    "    value = info\n",
    "    \n",
    "    infos[key]=value\n",
    "    \n",
    "print(infos)"
   ]
  },
  {
   "cell_type": "code",
   "execution_count": 10,
   "metadata": {},
   "outputs": [
    {
     "data": {
      "text/plain": [
       "{'Name': 'RAm', 'Age': '78', 'Address': 'Bara'}"
      ]
     },
     "execution_count": 10,
     "metadata": {},
     "output_type": "execute_result"
    }
   ],
   "source": [
    "infos[0]"
   ]
  },
  {
   "cell_type": "code",
   "execution_count": 11,
   "metadata": {},
   "outputs": [
    {
     "data": {
      "text/plain": [
       "{0: {'Name': 'Ram', 'Age': '78', 'Address': 'Bara'},\n",
       " 1: {'Name': 'Shyam', 'Age': '56', 'Address': 'Patan'}}"
      ]
     },
     "execution_count": 11,
     "metadata": {},
     "output_type": "execute_result"
    }
   ],
   "source": [
    "infos[0]['Name']='Ram'\n",
    "infos"
   ]
  },
  {
   "cell_type": "code",
   "execution_count": 13,
   "metadata": {},
   "outputs": [],
   "source": [
    "infos[2]={}\n",
    "infos[2]['Name']='Sita'\n",
    "infos[2]['Age'] = 78\n",
    "infos[2]['Address'] = 'Kathmandu'"
   ]
  },
  {
   "cell_type": "code",
   "execution_count": 14,
   "metadata": {},
   "outputs": [
    {
     "data": {
      "text/plain": [
       "{0: {'Name': 'Ram', 'Age': '78', 'Address': 'Bara'},\n",
       " 1: {'Name': 'Shyam', 'Age': '56', 'Address': 'Patan'},\n",
       " 2: {'Name': 'Sita', 'Age': 78, 'Address': 'Kathmandu'}}"
      ]
     },
     "execution_count": 14,
     "metadata": {},
     "output_type": "execute_result"
    }
   ],
   "source": [
    "infos"
   ]
  },
  {
   "cell_type": "code",
   "execution_count": 15,
   "metadata": {},
   "outputs": [
    {
     "data": {
      "text/plain": [
       "{0: {'Name': 'Ram', 'Age': '78', 'Address': 'Bara'},\n",
       " 1: {'Name': 'Shyam', 'Age': '56', 'Address': 'Patan'},\n",
       " 2: {'Name': 'Sita', 'Age': 78, 'Address': ['Kathmandu', 'Patan']}}"
      ]
     },
     "execution_count": 15,
     "metadata": {},
     "output_type": "execute_result"
    }
   ],
   "source": [
    "infos[2]['Address'] = ['Kathmandu','Patan']\n",
    "infos"
   ]
  },
  {
   "cell_type": "code",
   "execution_count": 16,
   "metadata": {},
   "outputs": [
    {
     "data": {
      "text/plain": [
       "{'Ram': {'Product': ['Coke', 'Fanta'], 'Price': [199, 200], 'Total': 399}}"
      ]
     },
     "execution_count": 16,
     "metadata": {},
     "output_type": "execute_result"
    }
   ],
   "source": [
    "# name,product,price\n",
    "bill = {'Ram':{'Product':['Coke','Fanta'],'Price':[199,200],'Total':sum([199,200])}}\n",
    "bill"
   ]
  },
  {
   "cell_type": "code",
   "execution_count": 18,
   "metadata": {},
   "outputs": [
    {
     "name": "stdout",
     "output_type": "stream",
     "text": [
      "Enter name = Shyam\n",
      "Enter hoe many product = 2\n",
      "Enter products name = Apple\n",
      "Enter products price = 300\n",
      "Enter products name = Coke\n",
      "Enter products price = 190\n",
      "{'Shyam': {'Product': ['Apple', 'Coke'], 'Price': [300, 190], 'Total': 490}}\n"
     ]
    }
   ],
   "source": [
    "name = input(\"Enter name = \")\n",
    "products = []\n",
    "prices = []\n",
    "n = int(input(\"Enter hoe many product = \"))\n",
    "for i in range(n):\n",
    "    product = input(\"Enter products name = \")\n",
    "    price = int(input(\"Enter products price = \"))\n",
    "    prices.append( price)\n",
    "    products.append(product)\n",
    "total=sum(prices)\n",
    "bill =  {}\n",
    "bill[name] = {'Product':products,'Price':prices,'Total':total}\n",
    "print(bill)"
   ]
  },
  {
   "cell_type": "code",
   "execution_count": 2,
   "metadata": {},
   "outputs": [
    {
     "name": "stdout",
     "output_type": "stream",
     "text": [
      "Enter hoe many product = 2\n",
      "Enter name = Ram\n",
      "Enter multiple Product: Coke Fanta\n",
      "Enter multiple Price: 100 100\n",
      "Enter name = Shyam\n",
      "Enter multiple Product: Apple Ball\n",
      "Enter multiple Price: 200 100\n",
      "{1: {'Product': ['Coke', 'Fanta'], 'Price': [100, 100], 'Total': 200}, 2: {'Product': ['Apple', 'Ball'], 'Price': [200, 100], 'Total': 300}}\n"
     ]
    }
   ],
   "source": [
    "total_bill = {}\n",
    "\n",
    "n = int(input(\"Enter hoe many product = \"))\n",
    "for i in range(1,n+1):\n",
    "    name = input(\"Enter name = \")\n",
    "    x = [str(x) for x in input(\"Enter multiple Product: \").split()] \n",
    "    y = [int(y) for y in input(\"Enter multiple Price: \").split()] \n",
    "    total=sum(y)\n",
    "    bill =  {}\n",
    "    bill[name] = {'Product':x,'Price':y,'Total':total}\n",
    "    total_bill[i] = bill[name]\n",
    "print(total_bill)"
   ]
  },
  {
   "cell_type": "code",
   "execution_count": null,
   "metadata": {},
   "outputs": [],
   "source": []
  },
  {
   "cell_type": "code",
   "execution_count": 4,
   "metadata": {},
   "outputs": [
    {
     "name": "stdout",
     "output_type": "stream",
     "text": [
      "Enter hoe many product = 2\n",
      "Enter name = Ram\n",
      "Enter multiple Product: Coke Momo\n",
      "Enter multiple Price: 100 200\n",
      "Enter name = Shyam\n",
      "Enter multiple Product: Apple Ball\n",
      "Enter multiple Price: 200 100\n",
      "{'Ram': {'Product': ['Coke', 'Momo'], 'Price': [100, 200], 'Total': 300}, 'Shyam': {'Product': ['Apple', 'Ball'], 'Price': [200, 100], 'Total': 300}}\n"
     ]
    }
   ],
   "source": [
    "total_bill = {}\n",
    "\n",
    "n = int(input(\"Enter hoe many product = \"))\n",
    "for i in range(1,n+1):\n",
    "    name = input(\"Enter name = \")\n",
    "    x = [str(x) for x in input(\"Enter multiple Product: \").split()] \n",
    "    y = [int(y) for y in input(\"Enter multiple Price: \").split()] \n",
    "    total=sum(y)\n",
    "    bill =  {}\n",
    "    bill[name] = {'Product':x,'Price':y,'Total':total}\n",
    "    total_bill[name] = bill[name]\n",
    "print(total_bill)"
   ]
  },
  {
   "cell_type": "code",
   "execution_count": 10,
   "metadata": {},
   "outputs": [
    {
     "name": "stdout",
     "output_type": "stream",
     "text": [
      "Enter name - Ram\n",
      "Enter index - Price\n"
     ]
    }
   ],
   "source": [
    "name = input(\"Enter name - \")\n",
    "total_bill[name]\n",
    "index = input(\"Enter index - \")\n",
    "total_bill[name][index] =[100,300]\n",
    "total_bill[name]['Total'] = sum(total_bill[name][index])"
   ]
  },
  {
   "cell_type": "code",
   "execution_count": 11,
   "metadata": {},
   "outputs": [
    {
     "data": {
      "text/plain": [
       "{'Ram': {'Product': ['Coke', 'Momo'], 'Price': [100, 300], 'Total': 400},\n",
       " 'Shyam': {'Product': ['Apple', 'Ball'], 'Price': [200, 100], 'Total': 300}}"
      ]
     },
     "execution_count": 11,
     "metadata": {},
     "output_type": "execute_result"
    }
   ],
   "source": [
    "total_bill"
   ]
  },
  {
   "cell_type": "code",
   "execution_count": 7,
   "metadata": {},
   "outputs": [
    {
     "data": {
      "text/plain": [
       "{'Product': ['Coke', 'Momo'], 'Price': [100, 200], 'Total': 270.0}"
      ]
     },
     "execution_count": 7,
     "metadata": {},
     "output_type": "execute_result"
    }
   ],
   "source": [
    "x = total_bill['Ram']['Total']\n",
    "total_bill['Ram']['Total'] = x*.9\n",
    "total_bill['Ram']"
   ]
  },
  {
   "cell_type": "code",
   "execution_count": 15,
   "metadata": {},
   "outputs": [
    {
     "name": "stdout",
     "output_type": "stream",
     "text": [
      "Enter multiple value: 3 4 5 6 7\n",
      "Number of list is:  [3, 4, 5, 6, 7]\n"
     ]
    }
   ],
   "source": [
    "x = [int(x) for x in input(\"Enter multiple value: \").split()] \n",
    "print(\"Number of list is: \", x)\n"
   ]
  },
  {
   "cell_type": "code",
   "execution_count": 17,
   "metadata": {},
   "outputs": [
    {
     "data": {
      "text/plain": [
       "['3', '4', '5', '6', '7']"
      ]
     },
     "execution_count": 17,
     "metadata": {},
     "output_type": "execute_result"
    }
   ],
   "source": [
    "x = \"3 4 5 6 7\".split()\n",
    "x"
   ]
  },
  {
   "cell_type": "code",
   "execution_count": 14,
   "metadata": {},
   "outputs": [
    {
     "name": "stdout",
     "output_type": "stream",
     "text": [
      "Enter  multiple value:324 453 234 353 \n"
     ]
    },
    {
     "ename": "ValueError",
     "evalue": "invalid literal for int() with base 10: '324 453 234 353 '",
     "output_type": "error",
     "traceback": [
      "\u001b[1;31m---------------------------------------------------------------------------\u001b[0m",
      "\u001b[1;31mValueError\u001b[0m                                Traceback (most recent call last)",
      "\u001b[1;32m<ipython-input-14-2758828e0475>\u001b[0m in \u001b[0;36m<module>\u001b[1;34m\u001b[0m\n\u001b[0;32m      1\u001b[0m \u001b[0mx\u001b[0m \u001b[1;33m=\u001b[0m \u001b[1;33m[\u001b[0m\u001b[1;33m]\u001b[0m\u001b[1;33m\u001b[0m\u001b[1;33m\u001b[0m\u001b[0m\n\u001b[0;32m      2\u001b[0m \u001b[1;32mfor\u001b[0m \u001b[0mi\u001b[0m \u001b[1;32min\u001b[0m \u001b[0mrange\u001b[0m\u001b[1;33m(\u001b[0m\u001b[1;36m3\u001b[0m\u001b[1;33m)\u001b[0m\u001b[1;33m:\u001b[0m\u001b[1;33m\u001b[0m\u001b[1;33m\u001b[0m\u001b[0m\n\u001b[1;32m----> 3\u001b[1;33m     \u001b[0my\u001b[0m \u001b[1;33m=\u001b[0m \u001b[0mint\u001b[0m\u001b[1;33m(\u001b[0m\u001b[0minput\u001b[0m\u001b[1;33m(\u001b[0m\u001b[1;34m\"Enter  multiple value:\"\u001b[0m\u001b[1;33m)\u001b[0m\u001b[1;33m)\u001b[0m\u001b[1;33m\u001b[0m\u001b[1;33m\u001b[0m\u001b[0m\n\u001b[0m\u001b[0;32m      4\u001b[0m     \u001b[0mx\u001b[0m\u001b[1;33m.\u001b[0m\u001b[0mappend\u001b[0m\u001b[1;33m(\u001b[0m\u001b[0my\u001b[0m\u001b[1;33m)\u001b[0m\u001b[1;33m\u001b[0m\u001b[1;33m\u001b[0m\u001b[0m\n",
      "\u001b[1;31mValueError\u001b[0m: invalid literal for int() with base 10: '324 453 234 353 '"
     ]
    }
   ],
   "source": [
    "x = []\n",
    "for i in range(3):\n",
    "    y = int(input(\"Enter  multiple value:\"))\n",
    "    x.append(y)"
   ]
  },
  {
   "cell_type": "code",
   "execution_count": 4,
   "metadata": {},
   "outputs": [
    {
     "name": "stdout",
     "output_type": "stream",
     "text": [
      "Enter multiple value: 3 4 5 2 3 4\n",
      "Number of list is:  {2, 3, 4, 5}\n"
     ]
    }
   ],
   "source": [
    "x = {int(x) for x in input(\"Enter multiple value: \").split()} \n",
    "print(\"Number of list is: \", x)\n"
   ]
  },
  {
   "cell_type": "code",
   "execution_count": 8,
   "metadata": {},
   "outputs": [
    {
     "name": "stdout",
     "output_type": "stream",
     "text": [
      "Enter multiple value: 3,4,5,6\n",
      "Number of list is:  [3, 4, 5, 6]\n"
     ]
    }
   ],
   "source": [
    "x = [int(x) for x in input(\"Enter multiple value: \").split(',')] \n",
    "print(\"Number of list is: \", x)\n"
   ]
  },
  {
   "cell_type": "code",
   "execution_count": 10,
   "metadata": {},
   "outputs": [
    {
     "name": "stdout",
     "output_type": "stream",
     "text": [
      "Enter multiple value: sdsad fggd asdadas gfgdf adasdas\n",
      "Number of list is:  ['sdsad', 'fggd', 'asdadas', 'gfgdf', 'adasdas']\n"
     ]
    }
   ],
   "source": [
    "x = [str(x) for x in input(\"Enter multiple value: \").split()] \n",
    "print(\"Number of list is: \", x)\n"
   ]
  },
  {
   "cell_type": "code",
   "execution_count": 11,
   "metadata": {},
   "outputs": [
    {
     "name": "stdout",
     "output_type": "stream",
     "text": [
      "Enter multiple value: sfsdf\n",
      "Number of list is:  [['s', 'f', 's', 'd', 'f']]\n"
     ]
    }
   ],
   "source": [
    "x = [list(x) for x in input(\"Enter multiple value: \").split()] \n",
    "print(\"Number of list is: \", x)\n"
   ]
  },
  {
   "cell_type": "code",
   "execution_count": null,
   "metadata": {},
   "outputs": [],
   "source": []
  }
 ],
 "metadata": {
  "kernelspec": {
   "display_name": "Python 3",
   "language": "python",
   "name": "python3"
  },
  "language_info": {
   "codemirror_mode": {
    "name": "ipython",
    "version": 3
   },
   "file_extension": ".py",
   "mimetype": "text/x-python",
   "name": "python",
   "nbconvert_exporter": "python",
   "pygments_lexer": "ipython3",
   "version": "3.5.5"
  }
 },
 "nbformat": 4,
 "nbformat_minor": 2
}
