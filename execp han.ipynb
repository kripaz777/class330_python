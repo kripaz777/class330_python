{
 "cells": [
  {
   "cell_type": "code",
   "execution_count": 1,
   "metadata": {},
   "outputs": [
    {
     "name": "stdout",
     "output_type": "stream",
     "text": [
      "The value of a and b should be in int\n"
     ]
    }
   ],
   "source": [
    "try:\n",
    "    l = int(input(\"Enter l = \"))\n",
    "    b = int(input(\"Enter b = \"))\n",
    "    print(l*b)\n",
    "except:\n",
    "    print(\"The value of a and b should be in int\")"
   ]
  },
  {
   "cell_type": "code",
   "execution_count": 5,
   "metadata": {},
   "outputs": [
    {
     "name": "stdout",
     "output_type": "stream",
     "text": [
      "Enter l = dsfsd\n",
      "Error\n"
     ]
    }
   ],
   "source": [
    "try:\n",
    "    l = int(input(\"Enter l = \"))\n",
    "    b = int(input(\"Enter b = \"))\n",
    "    print(l/b)\n",
    "except:\n",
    "    print(\"Error\")"
   ]
  },
  {
   "cell_type": "code",
   "execution_count": 3,
   "metadata": {},
   "outputs": [
    {
     "ename": "ZeroDivisionError",
     "evalue": "division by zero",
     "output_type": "error",
     "traceback": [
      "\u001b[1;31m---------------------------------------------------------------------------\u001b[0m",
      "\u001b[1;31mZeroDivisionError\u001b[0m                         Traceback (most recent call last)",
      "\u001b[1;32m<ipython-input-3-e574edb36883>\u001b[0m in \u001b[0;36m<module>\u001b[1;34m\u001b[0m\n\u001b[1;32m----> 1\u001b[1;33m \u001b[1;36m10\u001b[0m\u001b[1;33m/\u001b[0m\u001b[1;36m0\u001b[0m\u001b[1;33m\u001b[0m\u001b[1;33m\u001b[0m\u001b[0m\n\u001b[0m",
      "\u001b[1;31mZeroDivisionError\u001b[0m: division by zero"
     ]
    }
   ],
   "source": [
    "10/0"
   ]
  },
  {
   "cell_type": "code",
   "execution_count": 4,
   "metadata": {},
   "outputs": [
    {
     "name": "stdout",
     "output_type": "stream",
     "text": [
      "Enter l = sfsdf\n"
     ]
    },
    {
     "ename": "ValueError",
     "evalue": "invalid literal for int() with base 10: 'sfsdf'",
     "output_type": "error",
     "traceback": [
      "\u001b[1;31m---------------------------------------------------------------------------\u001b[0m",
      "\u001b[1;31mValueError\u001b[0m                                Traceback (most recent call last)",
      "\u001b[1;32m<ipython-input-4-2ac6dc4f71cf>\u001b[0m in \u001b[0;36m<module>\u001b[1;34m\u001b[0m\n\u001b[1;32m----> 1\u001b[1;33m \u001b[0mint\u001b[0m\u001b[1;33m(\u001b[0m\u001b[0minput\u001b[0m\u001b[1;33m(\u001b[0m\u001b[1;34m\"Enter l = \"\u001b[0m\u001b[1;33m)\u001b[0m\u001b[1;33m)\u001b[0m\u001b[1;33m\u001b[0m\u001b[1;33m\u001b[0m\u001b[0m\n\u001b[0m",
      "\u001b[1;31mValueError\u001b[0m: invalid literal for int() with base 10: 'sfsdf'"
     ]
    }
   ],
   "source": [
    "int(input(\"Enter l = \"))"
   ]
  },
  {
   "cell_type": "code",
   "execution_count": 7,
   "metadata": {},
   "outputs": [
    {
     "name": "stdout",
     "output_type": "stream",
     "text": [
      "Enter l = 10\n",
      "Enter b = 0\n",
      "ZeroDivisionError\n"
     ]
    }
   ],
   "source": [
    "try:\n",
    "    l = int(input(\"Enter l = \"))\n",
    "    b = int(input(\"Enter b = \"))\n",
    "    print(l/b)\n",
    "    \n",
    "except ValueError:\n",
    "    print(\"ValueError\")\n",
    "    \n",
    "except ZeroDivisionError:\n",
    "    print(\"ZeroDivisionError\")"
   ]
  },
  {
   "cell_type": "code",
   "execution_count": 12,
   "metadata": {},
   "outputs": [
    {
     "name": "stdout",
     "output_type": "stream",
     "text": [
      "Enter l = sfsd\n",
      "ValueError\n",
      "Enter l = 10\n",
      "Enter b = 0\n",
      "ZeroDivisionError\n",
      "Enter l = 10\n",
      "Enter b = 2\n",
      "5.0\n"
     ]
    }
   ],
   "source": [
    "def cal():\n",
    "    try:\n",
    "        l = int(input(\"Enter l = \"))\n",
    "        b = int(input(\"Enter b = \"))\n",
    "        print(l/b)\n",
    "\n",
    "    except ValueError:\n",
    "        print(\"ValueError\")\n",
    "        cal()\n",
    "\n",
    "    except ZeroDivisionError:\n",
    "        print(\"ZeroDivisionError\")\n",
    "        cal()\n",
    "cal()"
   ]
  },
  {
   "cell_type": "code",
   "execution_count": 2,
   "metadata": {},
   "outputs": [
    {
     "name": "stdout",
     "output_type": "stream",
     "text": [
      "Enter l = 10\n",
      "Enter b = 3\n",
      "The output is = 3.3333333333333335\n"
     ]
    }
   ],
   "source": [
    "try:\n",
    "    l = int(input(\"Enter l = \"))\n",
    "    b = int(input(\"Enter b = \"))\n",
    "    x = l/b\n",
    "    \n",
    "except ValueError:\n",
    "    print(\"ValueError\")\n",
    "    \n",
    "except ZeroDivisionError:\n",
    "    print(\"ZeroDivisionError\")\n",
    "    \n",
    "else:\n",
    "    print(\"The output is =\",x)"
   ]
  },
  {
   "cell_type": "code",
   "execution_count": 5,
   "metadata": {},
   "outputs": [
    {
     "name": "stdout",
     "output_type": "stream",
     "text": [
      "Enter l = sdfsdf\n",
      "ValueError\n",
      "This is finally block\n"
     ]
    }
   ],
   "source": [
    "try:\n",
    "    l = int(input(\"Enter l = \"))\n",
    "    b = int(input(\"Enter b = \"))\n",
    "    x = l/b\n",
    "    \n",
    "except ValueError:\n",
    "    print(\"ValueError\")\n",
    "    \n",
    "except ZeroDivisionError:\n",
    "    print(\"ZeroDivisionError\")\n",
    "    \n",
    "else:\n",
    "    print(\"The output is =\",x)\n",
    "    \n",
    "finally:\n",
    "    print(\"This is finally block\")"
   ]
  },
  {
   "cell_type": "code",
   "execution_count": null,
   "metadata": {},
   "outputs": [],
   "source": []
  },
  {
   "cell_type": "code",
   "execution_count": 7,
   "metadata": {},
   "outputs": [
    {
     "ename": "ZeroDivisionError",
     "evalue": "",
     "output_type": "error",
     "traceback": [
      "\u001b[1;31m---------------------------------------------------------------------------\u001b[0m",
      "\u001b[1;31mZeroDivisionError\u001b[0m                         Traceback (most recent call last)",
      "\u001b[1;32m<ipython-input-7-c62fc6984c64>\u001b[0m in \u001b[0;36m<module>\u001b[1;34m\u001b[0m\n\u001b[1;32m----> 1\u001b[1;33m \u001b[1;32mraise\u001b[0m \u001b[0mZeroDivisionError\u001b[0m\u001b[1;33m\u001b[0m\u001b[1;33m\u001b[0m\u001b[0m\n\u001b[0m",
      "\u001b[1;31mZeroDivisionError\u001b[0m: "
     ]
    }
   ],
   "source": [
    "raise ZeroDivisionError"
   ]
  },
  {
   "cell_type": "code",
   "execution_count": 9,
   "metadata": {},
   "outputs": [
    {
     "name": "stdout",
     "output_type": "stream",
     "text": [
      "Enter a?10\n",
      "Enter b?0\n",
      "The value of b can't be 0\n"
     ]
    }
   ],
   "source": [
    "try:  \n",
    "    a = int(input(\"Enter a?\"))  \n",
    "    b = int(input(\"Enter b?\"))  \n",
    "    if b == 0:  \n",
    "        raise ArithmeticError\n",
    "    else:  \n",
    "        print(\"a/b = \",a/b)  \n",
    "        \n",
    "except ArithmeticError:  \n",
    "    print(\"The value of b can't be 0\")\n"
   ]
  },
  {
   "cell_type": "code",
   "execution_count": 10,
   "metadata": {},
   "outputs": [
    {
     "name": "stdout",
     "output_type": "stream",
     "text": [
      "Enter a?10\n",
      "Enter b?4\n",
      "Enter + -  =-\n",
      "The value is= 6\n"
     ]
    }
   ],
   "source": [
    "try:  \n",
    "    a = int(input(\"Enter a?\"))  \n",
    "    b = int(input(\"Enter b?\"))\n",
    "    o = input(\"Enter + -  =\")\n",
    "    if o == '+':  \n",
    "        raise ArithmeticError\n",
    "    else:  \n",
    "        raise ValueError\n",
    "        \n",
    "except ArithmeticError:  \n",
    "    print(\"The value is=\",a+b)\n",
    "except ValueError:  \n",
    "    print(\"The value is=\",a-b)"
   ]
  },
  {
   "cell_type": "code",
   "execution_count": 14,
   "metadata": {},
   "outputs": [
    {
     "name": "stdout",
     "output_type": "stream",
     "text": [
      "Enter a string =sdfsd\n",
      "sdfsd\n"
     ]
    }
   ],
   "source": [
    "x = input(\"Enter a string =\")\n",
    "assert(len(x)<8)\n",
    "print(x)\n",
    "    \n",
    "    "
   ]
  },
  {
   "cell_type": "code",
   "execution_count": 22,
   "metadata": {},
   "outputs": [
    {
     "name": "stdout",
     "output_type": "stream",
     "text": [
      "Enter a string =sfsfsfsfsfsfsfd\n",
      "The len of x should be greater than 8\n"
     ]
    }
   ],
   "source": [
    "try:\n",
    "    x = input(\"Enter a string =\")\n",
    "    assert(len(x)<8)\n",
    "    print(x)\n",
    "    \n",
    "except AssertionError:\n",
    "    print(\"The len of x should be greater than 8\")\n"
   ]
  },
  {
   "cell_type": "code",
   "execution_count": 20,
   "metadata": {},
   "outputs": [
    {
     "name": "stdout",
     "output_type": "stream",
     "text": [
      "Enter a int =asdas\n",
      "The value of x should be int \n"
     ]
    }
   ],
   "source": [
    "try:\n",
    "    x = int(input(\"Enter a int =\"))\n",
    "    assert(x%5 == 0)\n",
    "    print(x)\n",
    "    \n",
    "except AssertionError:\n",
    "    print(\"There is an error\")\n",
    "    \n",
    "except ValueError:\n",
    "    print(\"The value of x should be int \")"
   ]
  },
  {
   "cell_type": "code",
   "execution_count": null,
   "metadata": {},
   "outputs": [],
   "source": []
  }
 ],
 "metadata": {
  "kernelspec": {
   "display_name": "Python 3",
   "language": "python",
   "name": "python3"
  },
  "language_info": {
   "codemirror_mode": {
    "name": "ipython",
    "version": 3
   },
   "file_extension": ".py",
   "mimetype": "text/x-python",
   "name": "python",
   "nbconvert_exporter": "python",
   "pygments_lexer": "ipython3",
   "version": "3.7.1"
  }
 },
 "nbformat": 4,
 "nbformat_minor": 2
}
