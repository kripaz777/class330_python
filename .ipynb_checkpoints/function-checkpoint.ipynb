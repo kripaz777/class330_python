{
 "cells": [
  {
   "cell_type": "code",
   "execution_count": 1,
   "metadata": {},
   "outputs": [],
   "source": [
    "# def <function_name>():\n",
    "#     <operation>\n",
    "\n",
    "# <function_name>()\n"
   ]
  },
  {
   "cell_type": "code",
   "execution_count": 2,
   "metadata": {},
   "outputs": [
    {
     "name": "stdout",
     "output_type": "stream",
     "text": [
      "Hello World\n"
     ]
    }
   ],
   "source": [
    "def hello():\n",
    "    print(\"Hello World\")\n",
    "    \n",
    "hello()"
   ]
  },
  {
   "cell_type": "code",
   "execution_count": 7,
   "metadata": {},
   "outputs": [
    {
     "name": "stdout",
     "output_type": "stream",
     "text": [
      "Volume is =  189\n"
     ]
    }
   ],
   "source": [
    "def cal():\n",
    "    l = 3   #local variable\n",
    "    b = 7\n",
    "    h = 9\n",
    "    v = l*b*h\n",
    "    print(\"Volume is = \",v)\n",
    "    \n",
    "cal()"
   ]
  },
  {
   "cell_type": "code",
   "execution_count": 8,
   "metadata": {},
   "outputs": [
    {
     "name": "stdout",
     "output_type": "stream",
     "text": [
      "Volume is =  189\n",
      "3\n"
     ]
    }
   ],
   "source": [
    "l = 3\n",
    "#global variable\n",
    "b = 7\n",
    "h = 9\n",
    "def cal():\n",
    "    \n",
    "    v = l*b*h\n",
    "    print(\"Volume is = \",v)\n",
    "    \n",
    "cal()\n",
    "print(l)"
   ]
  },
  {
   "cell_type": "code",
   "execution_count": 9,
   "metadata": {},
   "outputs": [
    {
     "name": "stdout",
     "output_type": "stream",
     "text": [
      "Volume is =  189\n",
      "3\n"
     ]
    }
   ],
   "source": [
    "def cal():\n",
    "    global l\n",
    "    l = 3\n",
    "    b = 7\n",
    "    h = 9\n",
    "    v = l*b*h\n",
    "    print(\"Volume is = \",v)\n",
    "    \n",
    "cal()\n",
    "print(l)"
   ]
  },
  {
   "cell_type": "code",
   "execution_count": 10,
   "metadata": {},
   "outputs": [
    {
     "name": "stdout",
     "output_type": "stream",
     "text": [
      "Enter value of l = 3\n",
      "Enter value of b = 4\n",
      "Enter value of h = 5\n",
      "Area is =  12\n",
      "Volume is =  60\n"
     ]
    }
   ],
   "source": [
    "l = int(input(\"Enter value of l = \"))\n",
    "b = int(input(\"Enter value of b = \"))\n",
    "h = int(input(\"Enter value of h = \"))\n",
    "\n",
    "def volume():\n",
    "    v = l*b*h\n",
    "    print(\"Volume is = \",v)\n",
    "\n",
    "def area():\n",
    "    a = l*b\n",
    "    print(\"Area is = \",a)\n",
    "    \n",
    "area()\n",
    "volume()"
   ]
  },
  {
   "cell_type": "code",
   "execution_count": null,
   "metadata": {},
   "outputs": [],
   "source": [
    "\n",
    "\n",
    "def volume():\n",
    "    l = int(input(\"Enter value of l = \"))\n",
    "    b = int(input(\"Enter value of b = \"))\n",
    "    h = int(input(\"Enter value of h = \"))\n",
    "    v = l*b*h\n",
    "    print(\"Volume is = \",v)\n",
    "\n",
    "def area():\n",
    "    l = int(input(\"Enter value of l = \"))\n",
    "    b = int(input(\"Enter value of b = \"))\n",
    "    \n",
    "    a = l*b\n",
    "    print(\"Area is = \",a)\n",
    "    \n",
    "area()\n",
    "volume()"
   ]
  },
  {
   "cell_type": "code",
   "execution_count": 11,
   "metadata": {},
   "outputs": [],
   "source": [
    "# Function with no argument and no return type\n",
    "# Function with argument and no return type\n",
    "# Function with no argument and return type\n",
    "# Function with argument and return type\n"
   ]
  },
  {
   "cell_type": "code",
   "execution_count": null,
   "metadata": {},
   "outputs": [],
   "source": [
    "# Function with no argument and no return type\n",
    "\n",
    "def volume():\n",
    "    l = int(input(\"Enter value of l = \"))\n",
    "    b = int(input(\"Enter value of b = \"))\n",
    "    h = int(input(\"Enter value of h = \"))\n",
    "    v = l*b*h\n",
    "    print(\"Volume is = \",v)\n",
    "\n",
    "def area():\n",
    "    l = int(input(\"Enter value of l = \"))\n",
    "    b = int(input(\"Enter value of b = \"))\n",
    "    \n",
    "    a = l*b\n",
    "    print(\"Area is = \",a)\n",
    "    \n",
    "area()\n",
    "volume()"
   ]
  },
  {
   "cell_type": "code",
   "execution_count": 12,
   "metadata": {},
   "outputs": [
    {
     "name": "stdout",
     "output_type": "stream",
     "text": [
      "Volume is =  189\n"
     ]
    }
   ],
   "source": [
    "# Function with argument and no return type\n",
    "\n",
    "def cal(l,b,h):\n",
    "    v = l*b*h\n",
    "    print(\"Volume is = \",v)\n",
    "    \n",
    "l = 3\n",
    "b = 7\n",
    "h = 9\n",
    "    \n",
    "cal(l,b,h)"
   ]
  },
  {
   "cell_type": "code",
   "execution_count": 13,
   "metadata": {},
   "outputs": [
    {
     "name": "stdout",
     "output_type": "stream",
     "text": [
      "Volume is =  189\n"
     ]
    }
   ],
   "source": [
    "# Function with argument and no return type\n",
    "\n",
    "def cal(x,y,z):\n",
    "    v = x*y*z\n",
    "    print(\"Volume is = \",v)\n",
    "    \n",
    "l = 3\n",
    "b = 7\n",
    "h = 9\n",
    "    \n",
    "cal(l,b,h)"
   ]
  },
  {
   "cell_type": "code",
   "execution_count": null,
   "metadata": {},
   "outputs": [],
   "source": [
    "# Function with argument and no return type\n",
    "\n",
    "def cal(x,y,z):\n",
    "    v = x*y*z\n",
    "    print(\"Volume is = \",v)\n",
    "    \n",
    "l = int(input(\"Enter l= \"))\n",
    "b = int(inut(\"Enter b = \"))\n",
    "h = int(input(\"Enter h = \"))\n",
    "    \n",
    "cal(l,b,h)"
   ]
  },
  {
   "cell_type": "code",
   "execution_count": 17,
   "metadata": {},
   "outputs": [
    {
     "name": "stdout",
     "output_type": "stream",
     "text": [
      "Enter l= 3\n",
      "Enter b = 4\n",
      "Enter h = 5\n",
      "Volume is =  60\n",
      "The area is =  12\n"
     ]
    }
   ],
   "source": [
    "# Function with argument and no return type\n",
    "\n",
    "def volume(x,y,z):\n",
    "    v = x*y*z\n",
    "    print(\"Volume is = \",v)\n",
    "    \n",
    "def area(f,g):\n",
    "    a = f*g\n",
    "    print(\"The area is = \",a)\n",
    "    \n",
    "l = int(input(\"Enter l= \"))\n",
    "b = int(input(\"Enter b = \"))\n",
    "h = int(input(\"Enter h = \"))\n",
    "    \n",
    "volume(l,b,h)\n",
    "area(l,b)"
   ]
  },
  {
   "cell_type": "markdown",
   "metadata": {},
   "source": [
    "5\n",
    "#### "
   ]
  },
  {
   "cell_type": "code",
   "execution_count": 19,
   "metadata": {},
   "outputs": [
    {
     "name": "stdout",
     "output_type": "stream",
     "text": [
      "Enter l= 3\n",
      "Enter b = 4\n",
      "Enter h = 5\n",
      "Volume is =  60\n"
     ]
    }
   ],
   "source": [
    "# Function with argument and no return type\n",
    "#passing array as an argument\n",
    "def cal(a):\n",
    "    x,y,z =a\n",
    "    v = x*y*z\n",
    "    print(\"Volume is = \",v)\n",
    "    \n",
    "l = int(input(\"Enter l= \"))\n",
    "b = int(input(\"Enter b = \"))\n",
    "h = int(input(\"Enter h = \"))\n",
    "\n",
    "a = [l,b,h]  #array\n",
    "\n",
    "cal(a)"
   ]
  },
  {
   "cell_type": "markdown",
   "metadata": {},
   "source": [
    "# Function with no argument and return type\n"
   ]
  },
  {
   "cell_type": "code",
   "execution_count": 22,
   "metadata": {},
   "outputs": [
    {
     "name": "stdout",
     "output_type": "stream",
     "text": [
      "Enter l= 6\n",
      "Enter b = 7\n",
      "42\n"
     ]
    }
   ],
   "source": [
    "l = int(input(\"Enter l= \"))\n",
    "b = int(input(\"Enter b = \"))\n",
    "\n",
    "def area():\n",
    "    a = l*b\n",
    "    return a\n",
    "    \n",
    "print(area())"
   ]
  },
  {
   "cell_type": "markdown",
   "metadata": {},
   "source": [
    "l = int(input(\"Enter l= \"))\n",
    "b = int(input(\"Enter b = \"))\n",
    "h = int(input(\"Enter h = ))\n",
    "\n",
    "def area():\n",
    "    a = l*b\n",
    "    return a\n",
    "   \n",
    "x = area()\n",
    "v = x*h\n",
    "print(\"Volume = \",v)"
   ]
  },
  {
   "cell_type": "code",
   "execution_count": 24,
   "metadata": {},
   "outputs": [
    {
     "name": "stdout",
     "output_type": "stream",
     "text": [
      "Enter l= 5\n",
      "Enter b = 7\n",
      "Enter h = 8\n",
      "Volume =  280\n"
     ]
    }
   ],
   "source": [
    "l = int(input(\"Enter l= \"))\n",
    "b = int(input(\"Enter b = \"))\n",
    "h = int(input(\"Enter h = \"))\n",
    "\n",
    "def area():\n",
    "    a = l*b\n",
    "    return a\n",
    "   \n",
    "x = area()\n",
    "v = x*h\n",
    "print(\"Volume = \",v)"
   ]
  },
  {
   "cell_type": "code",
   "execution_count": 25,
   "metadata": {},
   "outputs": [
    {
     "name": "stdout",
     "output_type": "stream",
     "text": [
      "Enter l= 4\n",
      "Enter b = 6\n",
      "Enter h = 8\n",
      "Volume =  280\n"
     ]
    }
   ],
   "source": [
    "l = int(input(\"Enter l= \"))\n",
    "b = int(input(\"Enter b = \"))\n",
    "h = int(input(\"Enter h = \"))\n",
    "\n",
    "def area():\n",
    "    a = l*b\n",
    "    return a\n",
    "\n",
    "def volume():\n",
    "    v = area()*h\n",
    "    return v\n",
    "   \n",
    "x = area()\n",
    "v = volume()\n",
    "print(\"area = \",x)\n",
    "print(\"Volume = \",v)"
   ]
  },
  {
   "cell_type": "code",
   "execution_count": 26,
   "metadata": {},
   "outputs": [
    {
     "name": "stdout",
     "output_type": "stream",
     "text": [
      "Enter l= 4\n",
      "Enter b = 6\n",
      "Enter h = 7\n",
      "Volume =  168\n",
      "area =  24\n"
     ]
    }
   ],
   "source": [
    "l = int(input(\"Enter l= \"))\n",
    "b = int(input(\"Enter b = \"))\n",
    "h = int(input(\"Enter h = \"))\n",
    "\n",
    "def area():\n",
    "    a = l*b\n",
    "    return a\n",
    "\n",
    "def volume():\n",
    "    v = area()*h\n",
    "    print(\"Volume = \",v)\n",
    "\n",
    "x=area()\n",
    "volume()\n",
    "print(\"area = \",x)\n"
   ]
  },
  {
   "cell_type": "code",
   "execution_count": 27,
   "metadata": {},
   "outputs": [
    {
     "name": "stdout",
     "output_type": "stream",
     "text": [
      "Enter l= 3\n",
      "Enter b = 4\n",
      "Enter h = 5\n",
      "The volume is 60\n",
      "The area is 12\n"
     ]
    }
   ],
   "source": [
    "# Function with argument and no return type\n",
    "\n",
    "def volume(x,y,z):\n",
    "    v = x*y*z\n",
    "    return v\n",
    "    \n",
    "def area(f,g):\n",
    "    a = f*g\n",
    "    return a\n",
    "    \n",
    "l = int(input(\"Enter l= \"))\n",
    "b = int(input(\"Enter b = \"))\n",
    "h = int(input(\"Enter h = \"))\n",
    "    \n",
    "print(\"The volume is\",volume(l,b,h))\n",
    "print(\"The area is\",area(l,b))"
   ]
  },
  {
   "cell_type": "code",
   "execution_count": 3,
   "metadata": {},
   "outputs": [
    {
     "name": "stdout",
     "output_type": "stream",
     "text": [
      "Enter l= 3\n",
      "Enter b = 4\n",
      "Enter h = 5\n",
      "The area is 12\n",
      "The volume is 60\n"
     ]
    }
   ],
   "source": [
    "# Function with argument and no return type\n",
    "\n",
    "    \n",
    "def area(f,g):\n",
    "    a = f*g\n",
    "    return a\n",
    "    \n",
    "l = int(input(\"Enter l= \"))\n",
    "b = int(input(\"Enter b = \"))\n",
    "h = int(input(\"Enter h = \"))\n",
    "\n",
    "print(\"The area is\",area(l,b))\n",
    "print(\"The volume is\",area(l,b)*h)\n"
   ]
  },
  {
   "cell_type": "code",
   "execution_count": 4,
   "metadata": {},
   "outputs": [],
   "source": [
    "# Recursive function"
   ]
  },
  {
   "cell_type": "code",
   "execution_count": 5,
   "metadata": {},
   "outputs": [],
   "source": [
    "# def hello():\n",
    "#     hello()\n",
    "    \n",
    "# hello()\n"
   ]
  },
  {
   "cell_type": "markdown",
   "metadata": {},
   "source": [
    "def cal():\n",
    "    p = float(input(\"Enter p =\"))\n",
    "    t = float(input(\"Enter t =\"))\n",
    "    r = float(input(\"Enter r =\"))\n",
    "    i = p*t*r/100\n",
    "\n",
    "    print(\"The value of i is =\",i)\n",
    "    x = input(\"Enter y for more calculation =\")\n",
    "    if x == 'y':\n",
    "        cal()\n",
    "    \n",
    "cal()"
   ]
  },
  {
   "cell_type": "code",
   "execution_count": null,
   "metadata": {},
   "outputs": [
    {
     "name": "stdout",
     "output_type": "stream",
     "text": [
      "Enter p =34543534\n",
      "Enter t =3\n",
      "Enter r =5\n",
      "The value of i is = 5181530.1\n",
      "Enter y for more calculation =y\n",
      "Enter p =23423434\n",
      "Enter t =5\n",
      "Enter r =3\n",
      "The value of i is = 3513515.1\n",
      "Enter y for more calculation =y\n"
     ]
    }
   ],
   "source": [
    "def cal():\n",
    "    p = float(input(\"Enter p =\"))\n",
    "    t = float(input(\"Enter t =\"))\n",
    "    r = float(input(\"Enter r =\"))\n",
    "    i = p*t*r/100\n",
    "\n",
    "    print(\"The value of i is =\",i)\n",
    "    x = input(\"Enter y for more calculation =\")\n",
    "    if x == 'y':\n",
    "        cal()\n",
    "    \n",
    "cal()"
   ]
  },
  {
   "cell_type": "code",
   "execution_count": null,
   "metadata": {},
   "outputs": [],
   "source": []
  }
 ],
 "metadata": {
  "kernelspec": {
   "display_name": "Python 3",
   "language": "python",
   "name": "python3"
  },
  "language_info": {
   "codemirror_mode": {
    "name": "ipython",
    "version": 3
   },
   "file_extension": ".py",
   "mimetype": "text/x-python",
   "name": "python",
   "nbconvert_exporter": "python",
   "pygments_lexer": "ipython3",
   "version": "3.7.1"
  }
 },
 "nbformat": 4,
 "nbformat_minor": 2
}
