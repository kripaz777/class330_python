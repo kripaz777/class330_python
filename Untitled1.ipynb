{
 "cells": [
  {
   "cell_type": "code",
   "execution_count": 1,
   "metadata": {},
   "outputs": [],
   "source": [
    "# @property\n",
    "# @classmethod decoter\n",
    "# @staticmethod decoters"
   ]
  },
  {
   "cell_type": "code",
   "execution_count": 2,
   "metadata": {},
   "outputs": [],
   "source": [
    "# @staticmethod decoters"
   ]
  },
  {
   "cell_type": "code",
   "execution_count": 3,
   "metadata": {},
   "outputs": [
    {
     "name": "stdout",
     "output_type": "stream",
     "text": [
      "hello I am Ram and I am 45 years old.\n",
      "Patan\n"
     ]
    }
   ],
   "source": [
    "class Student:\n",
    "    def __init__(self,name,age):\n",
    "        self.name = name\n",
    "        self.age = age\n",
    "        \n",
    "    def hello(self):\n",
    "        print(f\"hello I am {self.name} and I am {self.age} years old.\")\n",
    "        \n",
    "    @staticmethod\n",
    "    def address(add):\n",
    "        print(add)\n",
    "        \n",
    "obj = Student(\"Ram\",45)\n",
    "obj.hello()\n",
    "obj.address(\"Patan\")"
   ]
  },
  {
   "cell_type": "code",
   "execution_count": 10,
   "metadata": {},
   "outputs": [
    {
     "name": "stdout",
     "output_type": "stream",
     "text": [
      "Patan\n",
      "hello I am Shyam and I am 50 years old.\n"
     ]
    }
   ],
   "source": [
    "class Student:\n",
    "    def __init__(self,name,age):\n",
    "        self.name = name\n",
    "        self.age = age\n",
    "    def hello(self):\n",
    "        print(f\"hello I am {self.name} and I am {self.age} years old.\")\n",
    "        \n",
    "    @classmethod\n",
    "    def info(cls,name,age):\n",
    "        return cls(name,age)\n",
    "    \n",
    "    @staticmethod\n",
    "    def address(add):\n",
    "        print(add)\n",
    "        \n",
    "obj = Student(\"Ram\",45)\n",
    "obj1 = Student(\"Shyam\",50)\n",
    "\n",
    "obj.address(\"Patan\")\n",
    "obj1.info(\"Hari\",78)\n",
    "obj1.hello()"
   ]
  },
  {
   "cell_type": "code",
   "execution_count": 12,
   "metadata": {},
   "outputs": [
    {
     "name": "stdout",
     "output_type": "stream",
     "text": [
      "2020-09-09 16:07:53.028102\n"
     ]
    }
   ],
   "source": [
    "import datetime as d\n",
    "a = d.datetime.now()\n",
    "print(a)"
   ]
  },
  {
   "cell_type": "code",
   "execution_count": 13,
   "metadata": {},
   "outputs": [
    {
     "name": "stdout",
     "output_type": "stream",
     "text": [
      "2020\n"
     ]
    }
   ],
   "source": [
    "print(a.year)"
   ]
  },
  {
   "cell_type": "code",
   "execution_count": 15,
   "metadata": {},
   "outputs": [
    {
     "name": "stdout",
     "output_type": "stream",
     "text": [
      "Wednesday\n"
     ]
    }
   ],
   "source": [
    "print(a.strftime(\"%A\"))"
   ]
  },
  {
   "cell_type": "code",
   "execution_count": 16,
   "metadata": {},
   "outputs": [
    {
     "name": "stdout",
     "output_type": "stream",
     "text": [
      "September\n"
     ]
    }
   ],
   "source": [
    "print(a.strftime(\"%B\"))"
   ]
  },
  {
   "cell_type": "code",
   "execution_count": 17,
   "metadata": {},
   "outputs": [
    {
     "name": "stdout",
     "output_type": "stream",
     "text": [
      "20\n"
     ]
    }
   ],
   "source": [
    "print(a.strftime(\"%C\"))"
   ]
  },
  {
   "cell_type": "code",
   "execution_count": 18,
   "metadata": {},
   "outputs": [
    {
     "name": "stdout",
     "output_type": "stream",
     "text": [
      "09/09/20\n"
     ]
    }
   ],
   "source": [
    "print(a.strftime(\"%D\"))"
   ]
  },
  {
   "cell_type": "code",
   "execution_count": 19,
   "metadata": {},
   "outputs": [
    {
     "name": "stdout",
     "output_type": "stream",
     "text": [
      "16\n"
     ]
    }
   ],
   "source": [
    "print(a.strftime(\"%H\"))"
   ]
  },
  {
   "cell_type": "code",
   "execution_count": 23,
   "metadata": {},
   "outputs": [
    {
     "name": "stdout",
     "output_type": "stream",
     "text": [
      "PM\n"
     ]
    }
   ],
   "source": [
    "print(a.strftime(\"%p\"))"
   ]
  },
  {
   "cell_type": "code",
   "execution_count": 24,
   "metadata": {},
   "outputs": [],
   "source": [
    "# Sys"
   ]
  },
  {
   "cell_type": "code",
   "execution_count": 26,
   "metadata": {},
   "outputs": [
    {
     "data": {
      "text/plain": [
       "['C:\\\\Users\\\\coral\\\\Untitled Folder 10',\n",
       " 'C:\\\\Users\\\\coral\\\\Anaconda3\\\\python37.zip',\n",
       " 'C:\\\\Users\\\\coral\\\\Anaconda3\\\\DLLs',\n",
       " 'C:\\\\Users\\\\coral\\\\Anaconda3\\\\lib',\n",
       " 'C:\\\\Users\\\\coral\\\\Anaconda3',\n",
       " '',\n",
       " 'C:\\\\Users\\\\coral\\\\Anaconda3\\\\lib\\\\site-packages',\n",
       " 'C:\\\\Users\\\\coral\\\\Anaconda3\\\\lib\\\\site-packages\\\\keras_rl-0.4.2-py3.7.egg',\n",
       " 'C:\\\\Users\\\\coral\\\\Anaconda3\\\\lib\\\\site-packages\\\\win32',\n",
       " 'C:\\\\Users\\\\coral\\\\Anaconda3\\\\lib\\\\site-packages\\\\win32\\\\lib',\n",
       " 'C:\\\\Users\\\\coral\\\\Anaconda3\\\\lib\\\\site-packages\\\\Pythonwin',\n",
       " 'C:\\\\Users\\\\coral\\\\Anaconda3\\\\lib\\\\site-packages\\\\IPython\\\\extensions',\n",
       " 'C:\\\\Users\\\\coral\\\\.ipython']"
      ]
     },
     "execution_count": 26,
     "metadata": {},
     "output_type": "execute_result"
    }
   ],
   "source": [
    "import sys\n",
    "sys.path"
   ]
  },
  {
   "cell_type": "code",
   "execution_count": 27,
   "metadata": {},
   "outputs": [
    {
     "data": {
      "text/plain": [
       "'3.7.1 (default, Dec 10 2018, 22:54:23) [MSC v.1915 64 bit (AMD64)]'"
      ]
     },
     "execution_count": 27,
     "metadata": {},
     "output_type": "execute_result"
    }
   ],
   "source": [
    "sys.version"
   ]
  },
  {
   "cell_type": "code",
   "execution_count": 28,
   "metadata": {},
   "outputs": [
    {
     "data": {
      "text/plain": [
       "['.ipynb_checkpoints',\n",
       " 'class330.csv',\n",
       " 'Class_330.txt',\n",
       " 'csv.ipynb',\n",
       " 'data.csv',\n",
       " 'dicts.ipynb',\n",
       " 'execp han.ipynb',\n",
       " 'file.ipynb',\n",
       " 'first-class.ipynb',\n",
       " 'function.ipynb',\n",
       " 'ifelse.ipynb',\n",
       " 'Inheritance.ipynb',\n",
       " 'lambda.ipynb',\n",
       " 'list.ipynb',\n",
       " 'loops.ipynb',\n",
       " 'NewData1.csv',\n",
       " 'NewFile.csv',\n",
       " 'oop.ipynb',\n",
       " 'set.ipynb',\n",
       " 'String.ipynb',\n",
       " 'tuple.ipynb',\n",
       " 'Untitled Folder 1',\n",
       " 'Untitled Folder 2',\n",
       " 'Untitled Folder1',\n",
       " 'Untitled.ipynb',\n",
       " 'Untitled1.ipynb',\n",
       " 'UntitledFolder']"
      ]
     },
     "execution_count": 28,
     "metadata": {},
     "output_type": "execute_result"
    }
   ],
   "source": [
    "import os\n",
    "os.listdir()"
   ]
  },
  {
   "cell_type": "code",
   "execution_count": 29,
   "metadata": {},
   "outputs": [],
   "source": [
    "# chdir()\n",
    "# rmdir()"
   ]
  },
  {
   "cell_type": "code",
   "execution_count": 31,
   "metadata": {},
   "outputs": [
    {
     "data": {
      "text/plain": [
       "{1: 1, 2: 4, 3: 9, 4: 16, 5: 25}"
      ]
     },
     "execution_count": 31,
     "metadata": {},
     "output_type": "execute_result"
    }
   ],
   "source": [
    "square = {}\n",
    "for i in range(1,6):\n",
    "    square[i] = i**2\n",
    "square"
   ]
  },
  {
   "cell_type": "code",
   "execution_count": 32,
   "metadata": {},
   "outputs": [
    {
     "name": "stdout",
     "output_type": "stream",
     "text": [
      "{1: 1, 2: 4, 3: 9, 4: 16, 5: 25}\n"
     ]
    }
   ],
   "source": [
    "squares = {i:i**2 for i in range(1,6)}\n",
    "print(squares)"
   ]
  },
  {
   "cell_type": "code",
   "execution_count": 36,
   "metadata": {},
   "outputs": [
    {
     "name": "stdout",
     "output_type": "stream",
     "text": [
      "<re.Match object; span=(14, 16), match='am'>\n"
     ]
    }
   ],
   "source": [
    "import re\n",
    "a = \"Hello world I am Python. am \"\n",
    "x = re.search(\"am\",a)\n",
    "print(x)"
   ]
  },
  {
   "cell_type": "code",
   "execution_count": 38,
   "metadata": {},
   "outputs": [
    {
     "name": "stdout",
     "output_type": "stream",
     "text": [
      "Hello world I 2 Python.I 2 good.\n"
     ]
    }
   ],
   "source": [
    "import re\n",
    "a = \"Hello world I am Python.I am good.\"\n",
    "x = re.sub(\"am\",\"2\",a)\n",
    "print(x)"
   ]
  },
  {
   "cell_type": "code",
   "execution_count": null,
   "metadata": {},
   "outputs": [],
   "source": [
    "# json"
   ]
  },
  {
   "cell_type": "code",
   "execution_count": 39,
   "metadata": {},
   "outputs": [
    {
     "name": "stdout",
     "output_type": "stream",
     "text": [
      "Meow\n",
      "Bow Bow\n"
     ]
    }
   ],
   "source": [
    "class Dog:\n",
    "    def sound(self):\n",
    "        print(\"Bow Bow\")\n",
    "        \n",
    "class Cat:\n",
    "    def sound(self):\n",
    "        print(\"Meow\")\n",
    "        \n",
    "def makesound(animal):\n",
    "    animal.sound()\n",
    "    \n",
    "catobj = Cat()\n",
    "dogobj = Dog()\n",
    "makesound(catobj)\n",
    "makesound(dogobj)"
   ]
  },
  {
   "cell_type": "code",
   "execution_count": 1,
   "metadata": {},
   "outputs": [
    {
     "name": "stdout",
     "output_type": "stream",
     "text": [
      "Meow\n"
     ]
    }
   ],
   "source": [
    "class Dog:\n",
    "    def sound(self):\n",
    "        print(\"Bow Bow\")\n",
    "        \n",
    "class Cat(Dog):\n",
    "    def sound(self):\n",
    "        print(\"Meow\")\n",
    "        \n",
    "def makesound(animal):\n",
    "    animal.sound()\n",
    "    \n",
    "catobj = Cat()\n",
    "# dogobj = Dog()\n",
    "# makesound(catobj)\n",
    "makesound(catobj)"
   ]
  },
  {
   "cell_type": "code",
   "execution_count": 5,
   "metadata": {},
   "outputs": [
    {
     "name": "stdout",
     "output_type": "stream",
     "text": [
      "Parrot can fly\n",
      "Penguin can't fly\n"
     ]
    }
   ],
   "source": [
    "class Parrot:\n",
    "    def fly(self):\n",
    "        print(\"Parrot can fly\")\n",
    "    def swim(self):\n",
    "        print(\"Parrot can't swim\")\n",
    "        \n",
    "class Penguin:\n",
    "    def fly(self):\n",
    "        print(\"Penguin can't fly\")\n",
    "    def swim(self):\n",
    "        print(\"Penguin can swim\")\n",
    "        \n",
    "# common interface\n",
    "def flying_test(bird):\n",
    "    bird.fly()\n",
    "    \n",
    "#instantiate objects\n",
    "blu = Parrot()\n",
    "peggy = Penguin()\n",
    "\n",
    "# passing the object\n",
    "flying_test(blu)\n",
    "flying_test(peggy)\n"
   ]
  },
  {
   "cell_type": "code",
   "execution_count": null,
   "metadata": {},
   "outputs": [],
   "source": []
  }
 ],
 "metadata": {
  "kernelspec": {
   "display_name": "Python 3",
   "language": "python",
   "name": "python3"
  },
  "language_info": {
   "codemirror_mode": {
    "name": "ipython",
    "version": 3
   },
   "file_extension": ".py",
   "mimetype": "text/x-python",
   "name": "python",
   "nbconvert_exporter": "python",
   "pygments_lexer": "ipython3",
   "version": "3.7.1"
  }
 },
 "nbformat": 4,
 "nbformat_minor": 2
}
